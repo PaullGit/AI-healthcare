{
 "cells": [
  {
   "cell_type": "markdown",
   "id": "5b688c72-95d0-40c6-a85c-a3dd259da439",
   "metadata": {},
   "source": [
    "# Module 2 Assignment 1"
   ]
  },
  {
   "cell_type": "markdown",
   "id": "95d7c0bf-5951-4d67-8f14-cff4f2b91015",
   "metadata": {},
   "source": [
    "### Exercise 1: Create a title using a Markdown Cell"
   ]
  },
  {
   "cell_type": "raw",
   "id": "04b35e37-7fff-4936-8bf2-93d85ed5811d",
   "metadata": {
    "vscode": {
     "languageId": "raw"
    }
   },
   "source": [
    "- Add the title \"Exploring Jupyter Notebook Features\" and format the title to be a Level 1 heading (# Heading)."
   ]
  },
  {
   "cell_type": "markdown",
   "id": "b08fe067",
   "metadata": {},
   "source": [
    " # Exploring Jupyter Notebook Features (this is the title)\n"
   ]
  },
  {
   "cell_type": "markdown",
   "id": "99b13032-b919-4b7b-beca-dbcb74aa8ed0",
   "metadata": {},
   "source": [
    "### Exercise 2: Add an Introduction using Markdown"
   ]
  },
  {
   "cell_type": "markdown",
   "id": "9f468f5b",
   "metadata": {},
   "source": [
    "(Introduction)In this notebook, we will:\n",
    "- Create and manipulate a pandas DataFrame\n",
    "- Perform operations with numpy arrays\n",
    "- Practice using Markdown, Code, and Raw cells"
   ]
  },
  {
   "cell_type": "raw",
   "id": "9cdacf3d-6f20-420a-a640-fb53863c3673",
   "metadata": {
    "vscode": {
     "languageId": "raw"
    }
   },
   "source": [
    "Add a Markdown cell with the following text:\n",
    "\n",
    "In this notebook, we will:\n",
    "- Create and manipulate a pandas DataFrame\n",
    "- Perform operations with numpy arrays\n",
    "- Practice using Markdown, Code, and Raw cells"
   ]
  },
  {
   "cell_type": "markdown",
   "id": "eab19bb6-6fce-46fd-b0b8-f2aa1390feab",
   "metadata": {},
   "source": [
    "### Exercise 3: Insert a Code Cell to create a pandas DataFrame"
   ]
  },
  {
   "cell_type": "markdown",
   "id": "a7b29ad9",
   "metadata": {
    "vscode": {
     "languageId": "raw"
    }
   },
   "source": [
    "- Use this dictionary to create a Pndas dataframe and then show the dataframe in the next cell.\n",
    "\n",
    "```python\n",
    "data = {\n",
    "    \"Product\": [\"Phone\", \"Laptop\", \"Tablet\"],\n",
    "    \"Price\": [699, 1200, 450],\n",
    "    \"Stock\": [50, 30, 20],\n",
    "}"
   ]
  },
  {
   "cell_type": "code",
   "execution_count": 96,
   "id": "51fff5eb-dbad-4fcc-a239-8d5526b5024c",
   "metadata": {},
   "outputs": [
    {
     "name": "stdout",
     "output_type": "stream",
     "text": [
      "  Product  Price  Stock\n",
      "0   Phone    699     50\n",
      "1  Laptop   1200     30\n",
      "2  Tablet    450     20\n"
     ]
    }
   ],
   "source": [
    "import pandas as pd #type:ignore\n",
    "data = {\n",
    "    \"Product\": [\"Phone\", \"Laptop\", \"Tablet\"],\n",
    "    \"Price\": [699, 1200, 450],\n",
    "    \"Stock\": [50, 30, 20],\n",
    "}\n",
    "\n",
    "df = pd.DataFrame(data)\n",
    "print(df)"
   ]
  },
  {
   "cell_type": "markdown",
   "id": "a397d6aa-5b5e-4b41-be0c-f63745f32add",
   "metadata": {},
   "source": [
    "### Exercise 4: Add a Code Cell to perform the following operations with Numpy"
   ]
  },
  {
   "cell_type": "raw",
   "id": "2cabf3bd-6b28-472a-9340-38d0a7f5c7a7",
   "metadata": {},
   "source": [
    "- Create a numpy array\n",
    "[[1, 2, 3], [4, 5, 6], [7, 8, 9]]\n",
    "\n",
    "- Calculate the sum of elements\n",
    "\n",
    "- Print array and sum"
   ]
  },
  {
   "cell_type": "code",
   "execution_count": 97,
   "id": "2e581090-bcba-4d37-b8d5-47e70d1ce38e",
   "metadata": {
    "scrolled": true
   },
   "outputs": [
    {
     "name": "stdout",
     "output_type": "stream",
     "text": [
      "[[1 2 3]\n",
      " [4 5 6]\n",
      " [7 8 9]]\n",
      "Sum of elements: 45\n"
     ]
    }
   ],
   "source": [
    "import numpy as np # type: ignore\n",
    "elements = np.array([[1, 2, 3], [4, 5, 6], [7, 8, 9]])\n",
    "print(elements)\n",
    "print(f\"Sum of elements: {np.sum(elements)}\")"
   ]
  },
  {
   "cell_type": "markdown",
   "id": "9d43f4e3-891c-4dcb-83f3-d4e06f250ecb",
   "metadata": {},
   "source": [
    "### Exercise 5: Create a Series "
   ]
  },
  {
   "cell_type": "raw",
   "id": "91f0d64e-e7f0-47c5-a717-988b15c31f2d",
   "metadata": {},
   "source": [
    "- Import the Pandas library and create a Series object with the following data: ['apple', 'banana', 'cherry', 'date']. \n",
    "- Print the Series."
   ]
  },
  {
   "cell_type": "code",
   "execution_count": 98,
   "id": "b32033e1-44d5-4d8d-a6ec-60d6298224cf",
   "metadata": {},
   "outputs": [
    {
     "name": "stdout",
     "output_type": "stream",
     "text": [
      "0     apple\n",
      "1    banana\n",
      "2    cherry\n",
      "3      date\n",
      "dtype: object\n"
     ]
    }
   ],
   "source": [
    "import pandas as pd # type: ignore\n",
    "import numpy as np # type: ignore\n",
    "fruits = pd.Series(['apple', 'banana', 'cherry', 'date'])\n",
    "print(fruits)"
   ]
  },
  {
   "cell_type": "markdown",
   "id": "34c520e0-23fa-4458-9933-363de0b0f0d9",
   "metadata": {},
   "source": [
    "### Exercise 6: Create a DataFrame from a CSV file"
   ]
  },
  {
   "cell_type": "markdown",
   "id": "663b5a30-fe5f-4eb8-a504-488e9f51d1f1",
   "metadata": {
    "vscode": {
     "languageId": "raw"
    }
   },
   "source": [
    "- Load 'netherlands_IT_salaries.xlsx' file into a Pandas DataFrame and answer the following questions (file in Datasets folder on Microsoft Teams):\n",
    "    - Print the number of rows and columns in the DataFrame.\n",
    "    - Create and print a list of column names.\n",
    "    - Display the first five rows of the DataFrame.\n",
    "    - Display the last five rows of the DataFrame."
   ]
  },
  {
   "cell_type": "code",
   "execution_count": 99,
   "id": "16643693-162c-46cf-9b74-a43bf6f21e32",
   "metadata": {},
   "outputs": [
    {
     "name": "stdout",
     "output_type": "stream",
     "text": [
      "Number of rows: 1134\n",
      "Number of columns: 7\n",
      "Column names: ['Year', 'Age', 'Role', 'City', 'Education', 'Experience', 'Salary']\n"
     ]
    }
   ],
   "source": [
    "# TODO\n",
    "import pandas as pd\n",
    "\n",
    "salaries = pd.read_excel(\"netherlands_IT_salaries.xlsx\")\n",
    "print(f\"Number of rows: {len(salaries.index)}\")\n",
    "print(f\"Number of columns: {len(salaries.columns)}\")\n",
    "print(f\"Column names: {list(salaries.columns)}\")\n",
    "\n"
   ]
  },
  {
   "cell_type": "code",
   "execution_count": 100,
   "id": "18d8a256",
   "metadata": {},
   "outputs": [
    {
     "data": {
      "text/html": [
       "<div>\n",
       "<style scoped>\n",
       "    .dataframe tbody tr th:only-of-type {\n",
       "        vertical-align: middle;\n",
       "    }\n",
       "\n",
       "    .dataframe tbody tr th {\n",
       "        vertical-align: top;\n",
       "    }\n",
       "\n",
       "    .dataframe thead th {\n",
       "        text-align: right;\n",
       "    }\n",
       "</style>\n",
       "<table border=\"1\" class=\"dataframe\">\n",
       "  <thead>\n",
       "    <tr style=\"text-align: right;\">\n",
       "      <th></th>\n",
       "      <th>Year</th>\n",
       "      <th>Age</th>\n",
       "      <th>Role</th>\n",
       "      <th>City</th>\n",
       "      <th>Education</th>\n",
       "      <th>Experience</th>\n",
       "      <th>Salary</th>\n",
       "    </tr>\n",
       "  </thead>\n",
       "  <tbody>\n",
       "    <tr>\n",
       "      <th>0</th>\n",
       "      <td>2018</td>\n",
       "      <td>47</td>\n",
       "      <td>Helpdeskmanager</td>\n",
       "      <td>Apeldoorn</td>\n",
       "      <td>HBO</td>\n",
       "      <td>25.0</td>\n",
       "      <td>4950.0</td>\n",
       "    </tr>\n",
       "    <tr>\n",
       "      <th>1</th>\n",
       "      <td>2018</td>\n",
       "      <td>42</td>\n",
       "      <td>Applicatiebeheerder</td>\n",
       "      <td>Almelo</td>\n",
       "      <td>HAVO</td>\n",
       "      <td>10.0</td>\n",
       "      <td>4086.0</td>\n",
       "    </tr>\n",
       "    <tr>\n",
       "      <th>2</th>\n",
       "      <td>2018</td>\n",
       "      <td>42</td>\n",
       "      <td>BI Consultant</td>\n",
       "      <td>NaN</td>\n",
       "      <td>MBO</td>\n",
       "      <td>25.0</td>\n",
       "      <td>4400.0</td>\n",
       "    </tr>\n",
       "    <tr>\n",
       "      <th>3</th>\n",
       "      <td>2018</td>\n",
       "      <td>39</td>\n",
       "      <td>Software Engineer</td>\n",
       "      <td>Amsterdam</td>\n",
       "      <td>MBO</td>\n",
       "      <td>6.0</td>\n",
       "      <td>3600.0</td>\n",
       "    </tr>\n",
       "    <tr>\n",
       "      <th>4</th>\n",
       "      <td>2018</td>\n",
       "      <td>38</td>\n",
       "      <td>IT Consultant</td>\n",
       "      <td>Mierlo</td>\n",
       "      <td>HBO</td>\n",
       "      <td>15.0</td>\n",
       "      <td>4900.0</td>\n",
       "    </tr>\n",
       "  </tbody>\n",
       "</table>\n",
       "</div>"
      ],
      "text/plain": [
       "   Year  Age                 Role       City Education  Experience  Salary\n",
       "0  2018   47      Helpdeskmanager  Apeldoorn       HBO        25.0  4950.0\n",
       "1  2018   42  Applicatiebeheerder     Almelo      HAVO        10.0  4086.0\n",
       "2  2018   42        BI Consultant        NaN       MBO        25.0  4400.0\n",
       "3  2018   39    Software Engineer  Amsterdam       MBO         6.0  3600.0\n",
       "4  2018   38        IT Consultant     Mierlo       HBO        15.0  4900.0"
      ]
     },
     "execution_count": 100,
     "metadata": {},
     "output_type": "execute_result"
    }
   ],
   "source": [
    "salaries.head(5)"
   ]
  },
  {
   "cell_type": "code",
   "execution_count": 101,
   "id": "87198c26",
   "metadata": {},
   "outputs": [
    {
     "data": {
      "text/html": [
       "<div>\n",
       "<style scoped>\n",
       "    .dataframe tbody tr th:only-of-type {\n",
       "        vertical-align: middle;\n",
       "    }\n",
       "\n",
       "    .dataframe tbody tr th {\n",
       "        vertical-align: top;\n",
       "    }\n",
       "\n",
       "    .dataframe thead th {\n",
       "        text-align: right;\n",
       "    }\n",
       "</style>\n",
       "<table border=\"1\" class=\"dataframe\">\n",
       "  <thead>\n",
       "    <tr style=\"text-align: right;\">\n",
       "      <th></th>\n",
       "      <th>Year</th>\n",
       "      <th>Age</th>\n",
       "      <th>Role</th>\n",
       "      <th>City</th>\n",
       "      <th>Education</th>\n",
       "      <th>Experience</th>\n",
       "      <th>Salary</th>\n",
       "    </tr>\n",
       "  </thead>\n",
       "  <tbody>\n",
       "    <tr>\n",
       "      <th>1129</th>\n",
       "      <td>2021</td>\n",
       "      <td>23</td>\n",
       "      <td>Data Scientist</td>\n",
       "      <td>Randstad</td>\n",
       "      <td>WO</td>\n",
       "      <td>0.0</td>\n",
       "      <td>3750.0</td>\n",
       "    </tr>\n",
       "    <tr>\n",
       "      <th>1130</th>\n",
       "      <td>2021</td>\n",
       "      <td>23</td>\n",
       "      <td>System Administrator</td>\n",
       "      <td>Arnhem</td>\n",
       "      <td>MBO</td>\n",
       "      <td>0.0</td>\n",
       "      <td>2375.0</td>\n",
       "    </tr>\n",
       "    <tr>\n",
       "      <th>1131</th>\n",
       "      <td>2021</td>\n",
       "      <td>22</td>\n",
       "      <td>Software Engineer</td>\n",
       "      <td>Hengelo</td>\n",
       "      <td>HBO</td>\n",
       "      <td>0.0</td>\n",
       "      <td>2850.0</td>\n",
       "    </tr>\n",
       "    <tr>\n",
       "      <th>1132</th>\n",
       "      <td>2021</td>\n",
       "      <td>22</td>\n",
       "      <td>Software Engineer</td>\n",
       "      <td>Arnhem</td>\n",
       "      <td>HBO</td>\n",
       "      <td>0.0</td>\n",
       "      <td>2500.0</td>\n",
       "    </tr>\n",
       "    <tr>\n",
       "      <th>1133</th>\n",
       "      <td>2021</td>\n",
       "      <td>21</td>\n",
       "      <td>Software Engineer</td>\n",
       "      <td>Breda</td>\n",
       "      <td>MBO</td>\n",
       "      <td>1.0</td>\n",
       "      <td>2385.0</td>\n",
       "    </tr>\n",
       "  </tbody>\n",
       "</table>\n",
       "</div>"
      ],
      "text/plain": [
       "      Year  Age                  Role      City Education  Experience  Salary\n",
       "1129  2021   23        Data Scientist  Randstad        WO         0.0  3750.0\n",
       "1130  2021   23  System Administrator    Arnhem       MBO         0.0  2375.0\n",
       "1131  2021   22     Software Engineer   Hengelo       HBO         0.0  2850.0\n",
       "1132  2021   22     Software Engineer    Arnhem       HBO         0.0  2500.0\n",
       "1133  2021   21     Software Engineer     Breda       MBO         1.0  2385.0"
      ]
     },
     "execution_count": 101,
     "metadata": {},
     "output_type": "execute_result"
    }
   ],
   "source": [
    "salaries.tail(5)"
   ]
  },
  {
   "cell_type": "markdown",
   "id": "29e343a6",
   "metadata": {},
   "source": [
    "### Exercise 7: Explore the Data"
   ]
  },
  {
   "cell_type": "markdown",
   "id": "89c44f4b-4d44-46d6-862b-048b03c00f3e",
   "metadata": {},
   "source": [
    "- Do the following operations on the dataframe:\n",
    "    - Display the summary statistics of the DataFrame. (DataFrame method)\n",
    "    - Display the data types of the DataFrame. (DataFrame attribute)\n",
    "    - Display the number of non-null values in each column. (DataFrame method)\n",
    "    - Display the unique values in the 'Education' column. (Series method)\n",
    "    - Display the number of unique values in the 'Education' column. (Series method)\n",
    "    - Display the number of unique values in the DataFrame. (DataFrame method)"
   ]
  },
  {
   "cell_type": "code",
   "execution_count": 102,
   "id": "7a36a497",
   "metadata": {},
   "outputs": [
    {
     "data": {
      "text/html": [
       "<div>\n",
       "<style scoped>\n",
       "    .dataframe tbody tr th:only-of-type {\n",
       "        vertical-align: middle;\n",
       "    }\n",
       "\n",
       "    .dataframe tbody tr th {\n",
       "        vertical-align: top;\n",
       "    }\n",
       "\n",
       "    .dataframe thead th {\n",
       "        text-align: right;\n",
       "    }\n",
       "</style>\n",
       "<table border=\"1\" class=\"dataframe\">\n",
       "  <thead>\n",
       "    <tr style=\"text-align: right;\">\n",
       "      <th></th>\n",
       "      <th>Year</th>\n",
       "      <th>Age</th>\n",
       "      <th>Experience</th>\n",
       "      <th>Salary</th>\n",
       "    </tr>\n",
       "  </thead>\n",
       "  <tbody>\n",
       "    <tr>\n",
       "      <th>count</th>\n",
       "      <td>1134.000000</td>\n",
       "      <td>1134.000000</td>\n",
       "      <td>1130.000000</td>\n",
       "      <td>1101.000000</td>\n",
       "    </tr>\n",
       "    <tr>\n",
       "      <th>mean</th>\n",
       "      <td>2019.586420</td>\n",
       "      <td>29.182540</td>\n",
       "      <td>5.519469</td>\n",
       "      <td>3511.183470</td>\n",
       "    </tr>\n",
       "    <tr>\n",
       "      <th>std</th>\n",
       "      <td>0.899657</td>\n",
       "      <td>5.098952</td>\n",
       "      <td>4.959899</td>\n",
       "      <td>1282.149202</td>\n",
       "    </tr>\n",
       "    <tr>\n",
       "      <th>min</th>\n",
       "      <td>2018.000000</td>\n",
       "      <td>18.000000</td>\n",
       "      <td>0.000000</td>\n",
       "      <td>2.000000</td>\n",
       "    </tr>\n",
       "    <tr>\n",
       "      <th>25%</th>\n",
       "      <td>2019.000000</td>\n",
       "      <td>25.000000</td>\n",
       "      <td>2.000000</td>\n",
       "      <td>2650.000000</td>\n",
       "    </tr>\n",
       "    <tr>\n",
       "      <th>50%</th>\n",
       "      <td>2020.000000</td>\n",
       "      <td>28.000000</td>\n",
       "      <td>4.000000</td>\n",
       "      <td>3250.000000</td>\n",
       "    </tr>\n",
       "    <tr>\n",
       "      <th>75%</th>\n",
       "      <td>2020.000000</td>\n",
       "      <td>32.000000</td>\n",
       "      <td>8.000000</td>\n",
       "      <td>4100.000000</td>\n",
       "    </tr>\n",
       "    <tr>\n",
       "      <th>max</th>\n",
       "      <td>2021.000000</td>\n",
       "      <td>53.000000</td>\n",
       "      <td>30.000000</td>\n",
       "      <td>11137.000000</td>\n",
       "    </tr>\n",
       "  </tbody>\n",
       "</table>\n",
       "</div>"
      ],
      "text/plain": [
       "              Year          Age   Experience        Salary\n",
       "count  1134.000000  1134.000000  1130.000000   1101.000000\n",
       "mean   2019.586420    29.182540     5.519469   3511.183470\n",
       "std       0.899657     5.098952     4.959899   1282.149202\n",
       "min    2018.000000    18.000000     0.000000      2.000000\n",
       "25%    2019.000000    25.000000     2.000000   2650.000000\n",
       "50%    2020.000000    28.000000     4.000000   3250.000000\n",
       "75%    2020.000000    32.000000     8.000000   4100.000000\n",
       "max    2021.000000    53.000000    30.000000  11137.000000"
      ]
     },
     "execution_count": 102,
     "metadata": {},
     "output_type": "execute_result"
    }
   ],
   "source": [
    "salaries.describe()"
   ]
  },
  {
   "cell_type": "code",
   "execution_count": 103,
   "id": "c18e9acc",
   "metadata": {},
   "outputs": [
    {
     "data": {
      "text/plain": [
       "Year            int64\n",
       "Age             int64\n",
       "Role           object\n",
       "City           object\n",
       "Education      object\n",
       "Experience    float64\n",
       "Salary        float64\n",
       "dtype: object"
      ]
     },
     "execution_count": 103,
     "metadata": {},
     "output_type": "execute_result"
    }
   ],
   "source": [
    "salaries.dtypes"
   ]
  },
  {
   "cell_type": "code",
   "execution_count": 104,
   "id": "9e073e61",
   "metadata": {},
   "outputs": [
    {
     "data": {
      "text/plain": [
       "Year          1134\n",
       "Age           1134\n",
       "Role          1134\n",
       "City           877\n",
       "Education     1070\n",
       "Experience    1130\n",
       "Salary        1101\n",
       "dtype: int64"
      ]
     },
     "execution_count": 104,
     "metadata": {},
     "output_type": "execute_result"
    }
   ],
   "source": [
    "salaries.count()"
   ]
  },
  {
   "cell_type": "code",
   "execution_count": 105,
   "id": "15cabb8b",
   "metadata": {},
   "outputs": [
    {
     "data": {
      "text/plain": [
       "array(['HBO', 'HAVO', 'MBO', 'WO', nan, 'HIO', 'VWO', 'Mavo', 'MBOo 3',\n",
       "       'VMBO', 'Havo', 'HBO, WO', 'B', 'ul', 'IT'], dtype=object)"
      ]
     },
     "execution_count": 105,
     "metadata": {},
     "output_type": "execute_result"
    }
   ],
   "source": [
    "salaries[\"Education\"].unique()"
   ]
  },
  {
   "cell_type": "code",
   "execution_count": 106,
   "id": "5ad2d11e",
   "metadata": {},
   "outputs": [
    {
     "data": {
      "text/plain": [
       "Year            4\n",
       "Age            36\n",
       "Role          171\n",
       "City          136\n",
       "Education      14\n",
       "Experience     27\n",
       "Salary        390\n",
       "dtype: int64"
      ]
     },
     "execution_count": 106,
     "metadata": {},
     "output_type": "execute_result"
    }
   ],
   "source": [
    "salaries.nunique()"
   ]
  },
  {
   "cell_type": "markdown",
   "id": "918f68d4",
   "metadata": {},
   "source": [
    "## Methods for Series and DataFrame"
   ]
  },
  {
   "cell_type": "markdown",
   "id": "398c3c7d",
   "metadata": {},
   "source": [
    "- You should already noticed that some methods are only available for Series, while others are only available for DataFrames. \n",
    "\n",
    "  For example, the nunique() method is only available for Series, while the describe() method is only available for DataFrames. \n",
    "\n",
    "- But there are also some methods that are available for both Series and DataFrames. \n",
    "\n",
    "  For example, the unique() method is available for both Series and DataFrames."
   ]
  },
  {
   "cell_type": "markdown",
   "id": "fc3fce6a",
   "metadata": {},
   "source": [
    "### Exercise 8: More Attributes and Methods of Sries and Dataframe"
   ]
  },
  {
   "cell_type": "markdown",
   "id": "cb12e5d7",
   "metadata": {},
   "source": [
    "- Try to learn more about the attributes and methods of Series and DataFrame object which can be used to explore the data and try to apply some of them to the DataFrame you have already created from the given file.\n",
    "- Use them and create markdown cells to explain what they are for."
   ]
  },
  {
   "cell_type": "code",
   "execution_count": 107,
   "id": "80b0e98a",
   "metadata": {},
   "outputs": [
    {
     "data": {
      "text/plain": [
       "Education\n",
       "HIO        4950.000000\n",
       "Mavo       4700.000000\n",
       "B          4300.000000\n",
       "VWO        4215.363636\n",
       "HAVO       4155.000000\n",
       "WO         4070.546448\n",
       "HBO        3539.434286\n",
       "MBOo 3     3240.000000\n",
       "HBO, WO    3150.000000\n",
       "ul         3100.000000\n",
       "MBO        3062.391447\n",
       "Havo       2966.666667\n",
       "VMBO       2100.000000\n",
       "IT                 NaN\n",
       "Name: Salary, dtype: float64"
      ]
     },
     "execution_count": 107,
     "metadata": {},
     "output_type": "execute_result"
    }
   ],
   "source": [
    "salaries.groupby('Education')['Salary'].mean().sort_values(ascending=False)"
   ]
  },
  {
   "cell_type": "code",
   "execution_count": 108,
   "id": "82bf8a22",
   "metadata": {},
   "outputs": [
    {
     "data": {
      "text/html": [
       "<div>\n",
       "<style scoped>\n",
       "    .dataframe tbody tr th:only-of-type {\n",
       "        vertical-align: middle;\n",
       "    }\n",
       "\n",
       "    .dataframe tbody tr th {\n",
       "        vertical-align: top;\n",
       "    }\n",
       "\n",
       "    .dataframe thead tr th {\n",
       "        text-align: left;\n",
       "    }\n",
       "\n",
       "    .dataframe thead tr:last-of-type th {\n",
       "        text-align: right;\n",
       "    }\n",
       "</style>\n",
       "<table border=\"1\" class=\"dataframe\">\n",
       "  <thead>\n",
       "    <tr>\n",
       "      <th></th>\n",
       "      <th colspan=\"4\" halign=\"left\">Salary</th>\n",
       "    </tr>\n",
       "    <tr>\n",
       "      <th></th>\n",
       "      <th>mean</th>\n",
       "      <th>median</th>\n",
       "      <th>count</th>\n",
       "      <th>std</th>\n",
       "    </tr>\n",
       "    <tr>\n",
       "      <th>Experience</th>\n",
       "      <th></th>\n",
       "      <th></th>\n",
       "      <th></th>\n",
       "      <th></th>\n",
       "    </tr>\n",
       "  </thead>\n",
       "  <tbody>\n",
       "    <tr>\n",
       "      <th>0.0</th>\n",
       "      <td>2608.12</td>\n",
       "      <td>2587.5</td>\n",
       "      <td>110</td>\n",
       "      <td>528.63</td>\n",
       "    </tr>\n",
       "    <tr>\n",
       "      <th>1.0</th>\n",
       "      <td>2657.26</td>\n",
       "      <td>2700.0</td>\n",
       "      <td>127</td>\n",
       "      <td>768.77</td>\n",
       "    </tr>\n",
       "    <tr>\n",
       "      <th>2.0</th>\n",
       "      <td>2961.87</td>\n",
       "      <td>2859.0</td>\n",
       "      <td>135</td>\n",
       "      <td>764.91</td>\n",
       "    </tr>\n",
       "    <tr>\n",
       "      <th>3.0</th>\n",
       "      <td>3131.94</td>\n",
       "      <td>3075.0</td>\n",
       "      <td>118</td>\n",
       "      <td>754.10</td>\n",
       "    </tr>\n",
       "    <tr>\n",
       "      <th>4.0</th>\n",
       "      <td>3393.43</td>\n",
       "      <td>3250.0</td>\n",
       "      <td>95</td>\n",
       "      <td>967.99</td>\n",
       "    </tr>\n",
       "    <tr>\n",
       "      <th>5.0</th>\n",
       "      <td>3615.15</td>\n",
       "      <td>3400.0</td>\n",
       "      <td>100</td>\n",
       "      <td>1019.71</td>\n",
       "    </tr>\n",
       "    <tr>\n",
       "      <th>6.0</th>\n",
       "      <td>3681.96</td>\n",
       "      <td>3509.5</td>\n",
       "      <td>70</td>\n",
       "      <td>1224.63</td>\n",
       "    </tr>\n",
       "    <tr>\n",
       "      <th>7.0</th>\n",
       "      <td>3935.10</td>\n",
       "      <td>3750.0</td>\n",
       "      <td>49</td>\n",
       "      <td>1076.67</td>\n",
       "    </tr>\n",
       "    <tr>\n",
       "      <th>8.0</th>\n",
       "      <td>4078.65</td>\n",
       "      <td>4000.0</td>\n",
       "      <td>48</td>\n",
       "      <td>1330.98</td>\n",
       "    </tr>\n",
       "    <tr>\n",
       "      <th>9.0</th>\n",
       "      <td>4252.06</td>\n",
       "      <td>4100.0</td>\n",
       "      <td>31</td>\n",
       "      <td>1191.89</td>\n",
       "    </tr>\n",
       "    <tr>\n",
       "      <th>10.0</th>\n",
       "      <td>4157.27</td>\n",
       "      <td>3867.0</td>\n",
       "      <td>45</td>\n",
       "      <td>1327.55</td>\n",
       "    </tr>\n",
       "    <tr>\n",
       "      <th>11.0</th>\n",
       "      <td>4341.81</td>\n",
       "      <td>4272.0</td>\n",
       "      <td>31</td>\n",
       "      <td>1232.44</td>\n",
       "    </tr>\n",
       "    <tr>\n",
       "      <th>12.0</th>\n",
       "      <td>4430.06</td>\n",
       "      <td>4400.0</td>\n",
       "      <td>33</td>\n",
       "      <td>1217.42</td>\n",
       "    </tr>\n",
       "    <tr>\n",
       "      <th>13.0</th>\n",
       "      <td>5157.88</td>\n",
       "      <td>4852.0</td>\n",
       "      <td>17</td>\n",
       "      <td>1811.35</td>\n",
       "    </tr>\n",
       "    <tr>\n",
       "      <th>14.0</th>\n",
       "      <td>4512.64</td>\n",
       "      <td>4421.5</td>\n",
       "      <td>14</td>\n",
       "      <td>1383.93</td>\n",
       "    </tr>\n",
       "    <tr>\n",
       "      <th>15.0</th>\n",
       "      <td>5107.00</td>\n",
       "      <td>5150.0</td>\n",
       "      <td>19</td>\n",
       "      <td>1398.81</td>\n",
       "    </tr>\n",
       "    <tr>\n",
       "      <th>16.0</th>\n",
       "      <td>5120.14</td>\n",
       "      <td>4962.5</td>\n",
       "      <td>14</td>\n",
       "      <td>1930.69</td>\n",
       "    </tr>\n",
       "    <tr>\n",
       "      <th>17.0</th>\n",
       "      <td>4342.22</td>\n",
       "      <td>4300.0</td>\n",
       "      <td>9</td>\n",
       "      <td>1021.05</td>\n",
       "    </tr>\n",
       "    <tr>\n",
       "      <th>18.0</th>\n",
       "      <td>3880.00</td>\n",
       "      <td>3860.0</td>\n",
       "      <td>4</td>\n",
       "      <td>923.18</td>\n",
       "    </tr>\n",
       "    <tr>\n",
       "      <th>19.0</th>\n",
       "      <td>5688.40</td>\n",
       "      <td>4417.0</td>\n",
       "      <td>5</td>\n",
       "      <td>2353.64</td>\n",
       "    </tr>\n",
       "    <tr>\n",
       "      <th>20.0</th>\n",
       "      <td>5458.91</td>\n",
       "      <td>4800.0</td>\n",
       "      <td>11</td>\n",
       "      <td>2040.82</td>\n",
       "    </tr>\n",
       "    <tr>\n",
       "      <th>21.0</th>\n",
       "      <td>6512.33</td>\n",
       "      <td>5500.0</td>\n",
       "      <td>3</td>\n",
       "      <td>4210.78</td>\n",
       "    </tr>\n",
       "    <tr>\n",
       "      <th>22.0</th>\n",
       "      <td>4545.00</td>\n",
       "      <td>4545.0</td>\n",
       "      <td>2</td>\n",
       "      <td>487.90</td>\n",
       "    </tr>\n",
       "    <tr>\n",
       "      <th>25.0</th>\n",
       "      <td>4942.50</td>\n",
       "      <td>4675.0</td>\n",
       "      <td>4</td>\n",
       "      <td>1669.10</td>\n",
       "    </tr>\n",
       "    <tr>\n",
       "      <th>27.0</th>\n",
       "      <td>4500.00</td>\n",
       "      <td>4500.0</td>\n",
       "      <td>1</td>\n",
       "      <td>NaN</td>\n",
       "    </tr>\n",
       "    <tr>\n",
       "      <th>28.0</th>\n",
       "      <td>6500.00</td>\n",
       "      <td>6500.0</td>\n",
       "      <td>1</td>\n",
       "      <td>NaN</td>\n",
       "    </tr>\n",
       "    <tr>\n",
       "      <th>30.0</th>\n",
       "      <td>7100.00</td>\n",
       "      <td>7100.0</td>\n",
       "      <td>1</td>\n",
       "      <td>NaN</td>\n",
       "    </tr>\n",
       "  </tbody>\n",
       "</table>\n",
       "</div>"
      ],
      "text/plain": [
       "             Salary                       \n",
       "               mean  median count      std\n",
       "Experience                                \n",
       "0.0         2608.12  2587.5   110   528.63\n",
       "1.0         2657.26  2700.0   127   768.77\n",
       "2.0         2961.87  2859.0   135   764.91\n",
       "3.0         3131.94  3075.0   118   754.10\n",
       "4.0         3393.43  3250.0    95   967.99\n",
       "5.0         3615.15  3400.0   100  1019.71\n",
       "6.0         3681.96  3509.5    70  1224.63\n",
       "7.0         3935.10  3750.0    49  1076.67\n",
       "8.0         4078.65  4000.0    48  1330.98\n",
       "9.0         4252.06  4100.0    31  1191.89\n",
       "10.0        4157.27  3867.0    45  1327.55\n",
       "11.0        4341.81  4272.0    31  1232.44\n",
       "12.0        4430.06  4400.0    33  1217.42\n",
       "13.0        5157.88  4852.0    17  1811.35\n",
       "14.0        4512.64  4421.5    14  1383.93\n",
       "15.0        5107.00  5150.0    19  1398.81\n",
       "16.0        5120.14  4962.5    14  1930.69\n",
       "17.0        4342.22  4300.0     9  1021.05\n",
       "18.0        3880.00  3860.0     4   923.18\n",
       "19.0        5688.40  4417.0     5  2353.64\n",
       "20.0        5458.91  4800.0    11  2040.82\n",
       "21.0        6512.33  5500.0     3  4210.78\n",
       "22.0        4545.00  4545.0     2   487.90\n",
       "25.0        4942.50  4675.0     4  1669.10\n",
       "27.0        4500.00  4500.0     1      NaN\n",
       "28.0        6500.00  6500.0     1      NaN\n",
       "30.0        7100.00  7100.0     1      NaN"
      ]
     },
     "execution_count": 108,
     "metadata": {},
     "output_type": "execute_result"
    }
   ],
   "source": [
    "salaries.groupby('Experience').agg({\n",
    "    'Salary': ['mean', 'median', 'count', 'std']\n",
    "}).round(2)"
   ]
  }
 ],
 "metadata": {
  "kernelspec": {
   "display_name": "Python 3",
   "language": "python",
   "name": "python3"
  },
  "language_info": {
   "codemirror_mode": {
    "name": "ipython",
    "version": 3
   },
   "file_extension": ".py",
   "mimetype": "text/x-python",
   "name": "python",
   "nbconvert_exporter": "python",
   "pygments_lexer": "ipython3",
   "version": "3.12.5"
  }
 },
 "nbformat": 4,
 "nbformat_minor": 5
}
