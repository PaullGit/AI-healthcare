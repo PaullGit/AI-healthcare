{
 "cells": [
  {
   "cell_type": "markdown",
   "id": "5b688c72-95d0-40c6-a85c-a3dd259da439",
   "metadata": {},
   "source": [
    "# Module 2 Assignment 1"
   ]
  },
  {
   "cell_type": "markdown",
   "id": "95d7c0bf-5951-4d67-8f14-cff4f2b91015",
   "metadata": {},
   "source": [
    "### Exercise 1: Create a title using a Markdown Cell"
   ]
  },
  {
   "cell_type": "raw",
   "id": "04b35e37-7fff-4936-8bf2-93d85ed5811d",
   "metadata": {
    "vscode": {
     "languageId": "raw"
    }
   },
   "source": [
    "- Add the title \"Exploring Jupyter Notebook Features\" and format the title to be a Level 1 heading (# Heading)."
   ]
  },
  {
   "cell_type": "raw",
   "id": "676720fa",
   "metadata": {
    "vscode": {
     "languageId": "raw"
    }
   },
   "source": [
    "# TODO"
   ]
  },
  {
   "cell_type": "markdown",
   "id": "99b13032-b919-4b7b-beca-dbcb74aa8ed0",
   "metadata": {},
   "source": [
    "### Exercise 2: Add an Introduction using Markdown"
   ]
  },
  {
   "cell_type": "raw",
   "id": "9cdacf3d-6f20-420a-a640-fb53863c3673",
   "metadata": {
    "vscode": {
     "languageId": "raw"
    }
   },
   "source": [
    "Add a Markdown cell with the following text:\n",
    "\n",
    "In this notebook, we will:\n",
    "- Create and manipulate a pandas DataFrame\n",
    "- Perform operations with numpy arrays\n",
    "- Practice using Markdown, Code, and Raw cells"
   ]
  },
  {
   "cell_type": "raw",
   "id": "2ff78556",
   "metadata": {
    "vscode": {
     "languageId": "raw"
    }
   },
   "source": [
    "# TODO"
   ]
  },
  {
   "cell_type": "markdown",
   "id": "eab19bb6-6fce-46fd-b0b8-f2aa1390feab",
   "metadata": {},
   "source": [
    "### Exercise 3: Insert a Code Cell to create a pandas DataFrame"
   ]
  },
  {
   "cell_type": "markdown",
   "id": "a7b29ad9",
   "metadata": {
    "vscode": {
     "languageId": "raw"
    }
   },
   "source": [
    "- Use this dictionary to create a Pndas dataframe and then show the dataframe in the next cell.\n",
    "\n",
    "```python\n",
    "data = {\n",
    "    \"Product\": [\"Phone\", \"Laptop\", \"Tablet\"],\n",
    "    \"Price\": [699, 1200, 450],\n",
    "    \"Stock\": [50, 30, 20],\n",
    "}"
   ]
  },
  {
   "cell_type": "code",
   "execution_count": null,
   "id": "51fff5eb-dbad-4fcc-a239-8d5526b5024c",
   "metadata": {},
   "outputs": [],
   "source": [
    "# TODO"
   ]
  },
  {
   "cell_type": "code",
   "execution_count": null,
   "id": "e16b5e97",
   "metadata": {},
   "outputs": [
    {
     "data": {
      "text/html": [
       "<div>\n",
       "<style scoped>\n",
       "    .dataframe tbody tr th:only-of-type {\n",
       "        vertical-align: middle;\n",
       "    }\n",
       "\n",
       "    .dataframe tbody tr th {\n",
       "        vertical-align: top;\n",
       "    }\n",
       "\n",
       "    .dataframe thead th {\n",
       "        text-align: right;\n",
       "    }\n",
       "</style>\n",
       "<table border=\"1\" class=\"dataframe\">\n",
       "  <thead>\n",
       "    <tr style=\"text-align: right;\">\n",
       "      <th></th>\n",
       "      <th>Product</th>\n",
       "      <th>Price</th>\n",
       "      <th>Stock</th>\n",
       "    </tr>\n",
       "  </thead>\n",
       "  <tbody>\n",
       "    <tr>\n",
       "      <th>0</th>\n",
       "      <td>Phone</td>\n",
       "      <td>699</td>\n",
       "      <td>50</td>\n",
       "    </tr>\n",
       "    <tr>\n",
       "      <th>1</th>\n",
       "      <td>Laptop</td>\n",
       "      <td>1200</td>\n",
       "      <td>30</td>\n",
       "    </tr>\n",
       "    <tr>\n",
       "      <th>2</th>\n",
       "      <td>Tablet</td>\n",
       "      <td>450</td>\n",
       "      <td>20</td>\n",
       "    </tr>\n",
       "  </tbody>\n",
       "</table>\n",
       "</div>"
      ],
      "text/plain": [
       "  Product  Price  Stock\n",
       "0   Phone    699     50\n",
       "1  Laptop   1200     30\n",
       "2  Tablet    450     20"
      ]
     },
     "execution_count": 2,
     "metadata": {},
     "output_type": "execute_result"
    }
   ],
   "source": [
    "# TODO"
   ]
  },
  {
   "cell_type": "markdown",
   "id": "a397d6aa-5b5e-4b41-be0c-f63745f32add",
   "metadata": {},
   "source": [
    "### Exercise 4: Add a Code Cell to perform the following operations with Numpy"
   ]
  },
  {
   "cell_type": "raw",
   "id": "2cabf3bd-6b28-472a-9340-38d0a7f5c7a7",
   "metadata": {},
   "source": [
    "- Create a numpy array\n",
    "[[1, 2, 3], [4, 5, 6], [7, 8, 9]]\n",
    "\n",
    "- Calculate the sum of elements\n",
    "\n",
    "- Print array and sum"
   ]
  },
  {
   "cell_type": "code",
   "execution_count": null,
   "id": "2e581090-bcba-4d37-b8d5-47e70d1ce38e",
   "metadata": {
    "scrolled": true
   },
   "outputs": [
    {
     "name": "stdout",
     "output_type": "stream",
     "text": [
      "Array:\n",
      "[[1 2 3]\n",
      " [4 5 6]\n",
      " [7 8 9]]\n",
      "Sum of all elements: 45\n"
     ]
    }
   ],
   "source": [
    "# TODO"
   ]
  },
  {
   "cell_type": "markdown",
   "id": "9d43f4e3-891c-4dcb-83f3-d4e06f250ecb",
   "metadata": {},
   "source": [
    "### Exercise 5: Create a Series "
   ]
  },
  {
   "cell_type": "raw",
   "id": "91f0d64e-e7f0-47c5-a717-988b15c31f2d",
   "metadata": {},
   "source": [
    "- Import the Pandas library and create a Series object with the following data: ['apple', 'banana', 'cherry', 'date']. \n",
    "- Print the Series."
   ]
  },
  {
   "cell_type": "code",
   "execution_count": null,
   "id": "b32033e1-44d5-4d8d-a6ec-60d6298224cf",
   "metadata": {},
   "outputs": [
    {
     "name": "stdout",
     "output_type": "stream",
     "text": [
      "0     apple\n",
      "1    banana\n",
      "2    cherry\n",
      "3      date\n",
      "dtype: object\n"
     ]
    }
   ],
   "source": [
    "# TODO"
   ]
  },
  {
   "cell_type": "markdown",
   "id": "34c520e0-23fa-4458-9933-363de0b0f0d9",
   "metadata": {},
   "source": [
    "### Exercise 6: Create a DataFrame from a CSV file"
   ]
  },
  {
   "cell_type": "markdown",
   "id": "663b5a30-fe5f-4eb8-a504-488e9f51d1f1",
   "metadata": {
    "vscode": {
     "languageId": "raw"
    }
   },
   "source": [
    "- Load 'netherlands_IT_salaries.xlsx' file into a Pandas DataFrame and answer the following questions (file in Datasets folder on Microsoft Teams):\n",
    "    - Print the number of rows and columns in the DataFrame.\n",
    "    - Create and print a list of column names.\n",
    "    - Display the first five rows of the DataFrame.\n",
    "    - Display the last five rows of the DataFrame."
   ]
  },
  {
   "cell_type": "code",
   "execution_count": null,
   "id": "16643693-162c-46cf-9b74-a43bf6f21e32",
   "metadata": {},
   "outputs": [
    {
     "name": "stdout",
     "output_type": "stream",
     "text": [
      "Number of rows: 1134\n",
      "Number of columns: 7\n",
      "Column names: ['Year', 'Age', 'Role', 'City', 'Education', 'Experience', 'Salary']\n"
     ]
    }
   ],
   "source": [
    "# TODO"
   ]
  },
  {
   "cell_type": "code",
   "execution_count": null,
   "id": "18d8a256",
   "metadata": {},
   "outputs": [
    {
     "data": {
      "text/html": [
       "<div>\n",
       "<style scoped>\n",
       "    .dataframe tbody tr th:only-of-type {\n",
       "        vertical-align: middle;\n",
       "    }\n",
       "\n",
       "    .dataframe tbody tr th {\n",
       "        vertical-align: top;\n",
       "    }\n",
       "\n",
       "    .dataframe thead th {\n",
       "        text-align: right;\n",
       "    }\n",
       "</style>\n",
       "<table border=\"1\" class=\"dataframe\">\n",
       "  <thead>\n",
       "    <tr style=\"text-align: right;\">\n",
       "      <th></th>\n",
       "      <th>Year</th>\n",
       "      <th>Age</th>\n",
       "      <th>Role</th>\n",
       "      <th>City</th>\n",
       "      <th>Education</th>\n",
       "      <th>Experience</th>\n",
       "      <th>Salary</th>\n",
       "    </tr>\n",
       "  </thead>\n",
       "  <tbody>\n",
       "    <tr>\n",
       "      <th>0</th>\n",
       "      <td>2018</td>\n",
       "      <td>47</td>\n",
       "      <td>Helpdeskmanager</td>\n",
       "      <td>Apeldoorn</td>\n",
       "      <td>HBO</td>\n",
       "      <td>25.0</td>\n",
       "      <td>4950.0</td>\n",
       "    </tr>\n",
       "    <tr>\n",
       "      <th>1</th>\n",
       "      <td>2018</td>\n",
       "      <td>42</td>\n",
       "      <td>Applicatiebeheerder</td>\n",
       "      <td>Almelo</td>\n",
       "      <td>HAVO</td>\n",
       "      <td>10.0</td>\n",
       "      <td>4086.0</td>\n",
       "    </tr>\n",
       "    <tr>\n",
       "      <th>2</th>\n",
       "      <td>2018</td>\n",
       "      <td>42</td>\n",
       "      <td>BI Consultant</td>\n",
       "      <td>NaN</td>\n",
       "      <td>MBO</td>\n",
       "      <td>25.0</td>\n",
       "      <td>4400.0</td>\n",
       "    </tr>\n",
       "    <tr>\n",
       "      <th>3</th>\n",
       "      <td>2018</td>\n",
       "      <td>39</td>\n",
       "      <td>Software Engineer</td>\n",
       "      <td>Amsterdam</td>\n",
       "      <td>MBO</td>\n",
       "      <td>6.0</td>\n",
       "      <td>3600.0</td>\n",
       "    </tr>\n",
       "    <tr>\n",
       "      <th>4</th>\n",
       "      <td>2018</td>\n",
       "      <td>38</td>\n",
       "      <td>IT Consultant</td>\n",
       "      <td>Mierlo</td>\n",
       "      <td>HBO</td>\n",
       "      <td>15.0</td>\n",
       "      <td>4900.0</td>\n",
       "    </tr>\n",
       "  </tbody>\n",
       "</table>\n",
       "</div>"
      ],
      "text/plain": [
       "   Year  Age                 Role       City Education  Experience  Salary\n",
       "0  2018   47      Helpdeskmanager  Apeldoorn       HBO        25.0  4950.0\n",
       "1  2018   42  Applicatiebeheerder     Almelo      HAVO        10.0  4086.0\n",
       "2  2018   42        BI Consultant        NaN       MBO        25.0  4400.0\n",
       "3  2018   39    Software Engineer  Amsterdam       MBO         6.0  3600.0\n",
       "4  2018   38        IT Consultant     Mierlo       HBO        15.0  4900.0"
      ]
     },
     "execution_count": 6,
     "metadata": {},
     "output_type": "execute_result"
    }
   ],
   "source": [
    "# TODO"
   ]
  },
  {
   "cell_type": "code",
   "execution_count": null,
   "id": "87198c26",
   "metadata": {},
   "outputs": [
    {
     "data": {
      "text/html": [
       "<div>\n",
       "<style scoped>\n",
       "    .dataframe tbody tr th:only-of-type {\n",
       "        vertical-align: middle;\n",
       "    }\n",
       "\n",
       "    .dataframe tbody tr th {\n",
       "        vertical-align: top;\n",
       "    }\n",
       "\n",
       "    .dataframe thead th {\n",
       "        text-align: right;\n",
       "    }\n",
       "</style>\n",
       "<table border=\"1\" class=\"dataframe\">\n",
       "  <thead>\n",
       "    <tr style=\"text-align: right;\">\n",
       "      <th></th>\n",
       "      <th>Year</th>\n",
       "      <th>Age</th>\n",
       "      <th>Role</th>\n",
       "      <th>City</th>\n",
       "      <th>Education</th>\n",
       "      <th>Experience</th>\n",
       "      <th>Salary</th>\n",
       "    </tr>\n",
       "  </thead>\n",
       "  <tbody>\n",
       "    <tr>\n",
       "      <th>1129</th>\n",
       "      <td>2021</td>\n",
       "      <td>23</td>\n",
       "      <td>Data Scientist</td>\n",
       "      <td>Randstad</td>\n",
       "      <td>WO</td>\n",
       "      <td>0.0</td>\n",
       "      <td>3750.0</td>\n",
       "    </tr>\n",
       "    <tr>\n",
       "      <th>1130</th>\n",
       "      <td>2021</td>\n",
       "      <td>23</td>\n",
       "      <td>System Administrator</td>\n",
       "      <td>Arnhem</td>\n",
       "      <td>MBO</td>\n",
       "      <td>0.0</td>\n",
       "      <td>2375.0</td>\n",
       "    </tr>\n",
       "    <tr>\n",
       "      <th>1131</th>\n",
       "      <td>2021</td>\n",
       "      <td>22</td>\n",
       "      <td>Software Engineer</td>\n",
       "      <td>Hengelo</td>\n",
       "      <td>HBO</td>\n",
       "      <td>0.0</td>\n",
       "      <td>2850.0</td>\n",
       "    </tr>\n",
       "    <tr>\n",
       "      <th>1132</th>\n",
       "      <td>2021</td>\n",
       "      <td>22</td>\n",
       "      <td>Software Engineer</td>\n",
       "      <td>Arnhem</td>\n",
       "      <td>HBO</td>\n",
       "      <td>0.0</td>\n",
       "      <td>2500.0</td>\n",
       "    </tr>\n",
       "    <tr>\n",
       "      <th>1133</th>\n",
       "      <td>2021</td>\n",
       "      <td>21</td>\n",
       "      <td>Software Engineer</td>\n",
       "      <td>Breda</td>\n",
       "      <td>MBO</td>\n",
       "      <td>1.0</td>\n",
       "      <td>2385.0</td>\n",
       "    </tr>\n",
       "  </tbody>\n",
       "</table>\n",
       "</div>"
      ],
      "text/plain": [
       "      Year  Age                  Role      City Education  Experience  Salary\n",
       "1129  2021   23        Data Scientist  Randstad        WO         0.0  3750.0\n",
       "1130  2021   23  System Administrator    Arnhem       MBO         0.0  2375.0\n",
       "1131  2021   22     Software Engineer   Hengelo       HBO         0.0  2850.0\n",
       "1132  2021   22     Software Engineer    Arnhem       HBO         0.0  2500.0\n",
       "1133  2021   21     Software Engineer     Breda       MBO         1.0  2385.0"
      ]
     },
     "execution_count": 7,
     "metadata": {},
     "output_type": "execute_result"
    }
   ],
   "source": [
    "# TODO"
   ]
  },
  {
   "cell_type": "markdown",
   "id": "29e343a6",
   "metadata": {},
   "source": [
    "### Exercise 7: Explore the Data"
   ]
  },
  {
   "cell_type": "markdown",
   "id": "89c44f4b-4d44-46d6-862b-048b03c00f3e",
   "metadata": {},
   "source": [
    "- Do the following operations on the dataframe:\n",
    "    - Display the summary statistics of the DataFrame. (DataFrame method)\n",
    "    - Display the data types of the DataFrame. (DataFrame attribute)\n",
    "    - Display the number of non-null values in each column. (DataFrame method)\n",
    "    - Display the unique values in the 'Education' column. (Series method)\n",
    "    - Display the number of unique values in the 'Education' column. (Series method)\n",
    "    - Display the number of unique values in the DataFrame. (DataFrame method)"
   ]
  },
  {
   "cell_type": "code",
   "execution_count": null,
   "id": "7a36a497",
   "metadata": {},
   "outputs": [
    {
     "data": {
      "text/html": [
       "<div>\n",
       "<style scoped>\n",
       "    .dataframe tbody tr th:only-of-type {\n",
       "        vertical-align: middle;\n",
       "    }\n",
       "\n",
       "    .dataframe tbody tr th {\n",
       "        vertical-align: top;\n",
       "    }\n",
       "\n",
       "    .dataframe thead th {\n",
       "        text-align: right;\n",
       "    }\n",
       "</style>\n",
       "<table border=\"1\" class=\"dataframe\">\n",
       "  <thead>\n",
       "    <tr style=\"text-align: right;\">\n",
       "      <th></th>\n",
       "      <th>Year</th>\n",
       "      <th>Age</th>\n",
       "      <th>Experience</th>\n",
       "      <th>Salary</th>\n",
       "    </tr>\n",
       "  </thead>\n",
       "  <tbody>\n",
       "    <tr>\n",
       "      <th>count</th>\n",
       "      <td>1134.000000</td>\n",
       "      <td>1134.000000</td>\n",
       "      <td>1130.000000</td>\n",
       "      <td>1101.000000</td>\n",
       "    </tr>\n",
       "    <tr>\n",
       "      <th>mean</th>\n",
       "      <td>2019.586420</td>\n",
       "      <td>29.182540</td>\n",
       "      <td>5.519469</td>\n",
       "      <td>3511.183470</td>\n",
       "    </tr>\n",
       "    <tr>\n",
       "      <th>std</th>\n",
       "      <td>0.899657</td>\n",
       "      <td>5.098952</td>\n",
       "      <td>4.959899</td>\n",
       "      <td>1282.149202</td>\n",
       "    </tr>\n",
       "    <tr>\n",
       "      <th>min</th>\n",
       "      <td>2018.000000</td>\n",
       "      <td>18.000000</td>\n",
       "      <td>0.000000</td>\n",
       "      <td>2.000000</td>\n",
       "    </tr>\n",
       "    <tr>\n",
       "      <th>25%</th>\n",
       "      <td>2019.000000</td>\n",
       "      <td>25.000000</td>\n",
       "      <td>2.000000</td>\n",
       "      <td>2650.000000</td>\n",
       "    </tr>\n",
       "    <tr>\n",
       "      <th>50%</th>\n",
       "      <td>2020.000000</td>\n",
       "      <td>28.000000</td>\n",
       "      <td>4.000000</td>\n",
       "      <td>3250.000000</td>\n",
       "    </tr>\n",
       "    <tr>\n",
       "      <th>75%</th>\n",
       "      <td>2020.000000</td>\n",
       "      <td>32.000000</td>\n",
       "      <td>8.000000</td>\n",
       "      <td>4100.000000</td>\n",
       "    </tr>\n",
       "    <tr>\n",
       "      <th>max</th>\n",
       "      <td>2021.000000</td>\n",
       "      <td>53.000000</td>\n",
       "      <td>30.000000</td>\n",
       "      <td>11137.000000</td>\n",
       "    </tr>\n",
       "  </tbody>\n",
       "</table>\n",
       "</div>"
      ],
      "text/plain": [
       "              Year          Age   Experience        Salary\n",
       "count  1134.000000  1134.000000  1130.000000   1101.000000\n",
       "mean   2019.586420    29.182540     5.519469   3511.183470\n",
       "std       0.899657     5.098952     4.959899   1282.149202\n",
       "min    2018.000000    18.000000     0.000000      2.000000\n",
       "25%    2019.000000    25.000000     2.000000   2650.000000\n",
       "50%    2020.000000    28.000000     4.000000   3250.000000\n",
       "75%    2020.000000    32.000000     8.000000   4100.000000\n",
       "max    2021.000000    53.000000    30.000000  11137.000000"
      ]
     },
     "execution_count": 8,
     "metadata": {},
     "output_type": "execute_result"
    }
   ],
   "source": [
    "# TODO"
   ]
  },
  {
   "cell_type": "code",
   "execution_count": null,
   "id": "c18e9acc",
   "metadata": {},
   "outputs": [
    {
     "data": {
      "text/plain": [
       "Year            int64\n",
       "Age             int64\n",
       "Role           object\n",
       "City           object\n",
       "Education      object\n",
       "Experience    float64\n",
       "Salary        float64\n",
       "dtype: object"
      ]
     },
     "execution_count": 9,
     "metadata": {},
     "output_type": "execute_result"
    }
   ],
   "source": [
    "# TODO"
   ]
  },
  {
   "cell_type": "code",
   "execution_count": null,
   "id": "9e073e61",
   "metadata": {},
   "outputs": [
    {
     "data": {
      "text/plain": [
       "Year          1134\n",
       "Age           1134\n",
       "Role          1134\n",
       "City           877\n",
       "Education     1070\n",
       "Experience    1130\n",
       "Salary        1101\n",
       "dtype: int64"
      ]
     },
     "execution_count": 10,
     "metadata": {},
     "output_type": "execute_result"
    }
   ],
   "source": [
    "# TODO"
   ]
  },
  {
   "cell_type": "code",
   "execution_count": null,
   "id": "15cabb8b",
   "metadata": {},
   "outputs": [
    {
     "data": {
      "text/plain": [
       "171"
      ]
     },
     "execution_count": 11,
     "metadata": {},
     "output_type": "execute_result"
    }
   ],
   "source": [
    "# TODO"
   ]
  },
  {
   "cell_type": "code",
   "execution_count": null,
   "id": "5ad2d11e",
   "metadata": {},
   "outputs": [
    {
     "data": {
      "text/plain": [
       "array(['HBO', 'HAVO', 'MBO', 'WO', nan, 'HIO', 'VWO', 'Mavo', 'MBOo 3',\n",
       "       'VMBO', 'Havo', 'HBO, WO', 'B', 'ul', 'IT'], dtype=object)"
      ]
     },
     "execution_count": 12,
     "metadata": {},
     "output_type": "execute_result"
    }
   ],
   "source": [
    "# TODO"
   ]
  },
  {
   "cell_type": "code",
   "execution_count": null,
   "id": "4227432e",
   "metadata": {},
   "outputs": [
    {
     "data": {
      "text/plain": [
       "14"
      ]
     },
     "execution_count": 13,
     "metadata": {},
     "output_type": "execute_result"
    }
   ],
   "source": [
    "# TODO"
   ]
  },
  {
   "cell_type": "code",
   "execution_count": null,
   "id": "d9839736",
   "metadata": {},
   "outputs": [
    {
     "data": {
      "text/plain": [
       "Year            4\n",
       "Age            36\n",
       "Role          171\n",
       "City          136\n",
       "Education      14\n",
       "Experience     27\n",
       "Salary        390\n",
       "dtype: int64"
      ]
     },
     "execution_count": 14,
     "metadata": {},
     "output_type": "execute_result"
    }
   ],
   "source": [
    "# TODO"
   ]
  },
  {
   "cell_type": "code",
   "execution_count": null,
   "id": "175b32cc",
   "metadata": {},
   "outputs": [
    {
     "data": {
      "text/plain": [
       "Year            4\n",
       "Age            36\n",
       "Role          171\n",
       "City          136\n",
       "Education      14\n",
       "Experience     27\n",
       "Salary        390\n",
       "dtype: int64"
      ]
     },
     "execution_count": 15,
     "metadata": {},
     "output_type": "execute_result"
    }
   ],
   "source": [
    "# TODO"
   ]
  },
  {
   "cell_type": "markdown",
   "id": "918f68d4",
   "metadata": {},
   "source": [
    "## Methods for Series and DataFrame"
   ]
  },
  {
   "cell_type": "markdown",
   "id": "398c3c7d",
   "metadata": {},
   "source": [
    "- You should already noticed that some methods are only available for Series, while others are only available for DataFrames. \n",
    "\n",
    "  For example, the nunique() method is only available for Series, while the describe() method is only available for DataFrames. \n",
    "\n",
    "- But there are also some methods that are available for both Series and DataFrames. \n",
    "\n",
    "  For example, the unique() method is available for both Series and DataFrames."
   ]
  },
  {
   "cell_type": "markdown",
   "id": "fc3fce6a",
   "metadata": {},
   "source": [
    "### Exercise 8: More Attributes and Methods of Sries and Dataframe"
   ]
  },
  {
   "cell_type": "markdown",
   "id": "cb12e5d7",
   "metadata": {},
   "source": [
    "- Try to learn more about the attributes and methods of Series and DataFrame object which can be used to explore the data and try to apply some of them to the DataFrame you have already created from the given file.\n",
    "- Use them and create markdown cells to explain what they are for."
   ]
  },
  {
   "cell_type": "code",
   "execution_count": null,
   "id": "80b0e98a",
   "metadata": {},
   "outputs": [],
   "source": [
    "# TODO"
   ]
  }
 ],
 "metadata": {
  "kernelspec": {
   "display_name": "Python 3 (ipykernel)",
   "language": "python",
   "name": "python3"
  },
  "language_info": {
   "codemirror_mode": {
    "name": "ipython",
    "version": 3
   },
   "file_extension": ".py",
   "mimetype": "text/x-python",
   "name": "python",
   "nbconvert_exporter": "python",
   "pygments_lexer": "ipython3",
   "version": "3.12.7"
  }
 },
 "nbformat": 4,
 "nbformat_minor": 5
}
