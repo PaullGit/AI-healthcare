{
 "cells": [
  {
   "cell_type": "markdown",
   "metadata": {},
   "source": [
    "# Data Manipulation and Preparation with Pandas\n",
    "_Week 3_\n",
    "\n"
   ]
  },
  {
   "cell_type": "code",
   "execution_count": 1,
   "metadata": {},
   "outputs": [],
   "source": [
    "# Loading the dataset\n",
    "import pandas\n",
    "df = pandas.read_csv('netherlands_IT_salaries.csv') \n"
   ]
  },
  {
   "cell_type": "markdown",
   "metadata": {},
   "source": [
    "## Sorting Data"
   ]
  },
  {
   "cell_type": "markdown",
   "metadata": {},
   "source": [
    "- Sort the dataset by Salary in descending order\n",
    "- Sort by City and then by Role, both in ascending order"
   ]
  },
  {
   "cell_type": "code",
   "execution_count": null,
   "metadata": {},
   "outputs": [],
   "source": [
    "import pandas as pd\n",
    "\n",
    "df = pd.read_excel('netherlands_IT_salaries.xlsx')\n",
    "descending = df.sort_values(by='Salary',ascending=False)\n",
    "\n",
    "city = df.sort_values(by='City',ascending=True)\n",
    "role = df.sort_values(by='Role',ascending=True)"
   ]
  },
  {
   "cell_type": "markdown",
   "metadata": {},
   "source": [
    "## Handling Missing Data\n"
   ]
  },
  {
   "cell_type": "markdown",
   "metadata": {},
   "source": [
    "· Check if there are any missing values in each column.\n",
    "\n",
    "· Display only the rows with missing values.\n",
    "\n",
    "· Fill missing Education values with 'Unknown'.\n",
    "\n",
    "· Replace missing Salary values (if any) with the average salary.\n",
    "\n",
    "· Drop rows where City is missing.\n",
    "\n",
    "· Decide what to do with missing values in Experience."
   ]
  },
  {
   "cell_type": "code",
   "execution_count": null,
   "metadata": {},
   "outputs": [
    {
     "name": "stdout",
     "output_type": "stream",
     "text": [
      "<class 'pandas.core.frame.DataFrame'>\n",
      "RangeIndex: 1134 entries, 0 to 1133\n",
      "Data columns (total 7 columns):\n",
      " #   Column      Non-Null Count  Dtype  \n",
      "---  ------      --------------  -----  \n",
      " 0   Year        1134 non-null   int64  \n",
      " 1   Age         1134 non-null   int64  \n",
      " 2   Role        1134 non-null   object \n",
      " 3   City        877 non-null    object \n",
      " 4   Education   1070 non-null   object \n",
      " 5   Experience  1130 non-null   float64\n",
      " 6   Salary      1101 non-null   float64\n",
      "dtypes: float64(2), int64(2), object(3)\n",
      "memory usage: 62.1+ KB\n"
     ]
    }
   ],
   "source": [
    "df.info()"
   ]
  },
  {
   "cell_type": "code",
   "execution_count": null,
   "metadata": {},
   "outputs": [
    {
     "name": "stdout",
     "output_type": "stream",
     "text": [
      "      Year  Age                 Role    City Education  Experience  Salary\n",
      "2     2018   42        BI Consultant     NaN       MBO        25.0  4400.0\n",
      "6     2018   38    Software Engineer     NaN       HBO        11.0  3350.0\n",
      "10    2018   36       Lead Developer  Arnhem       NaN        16.0  4100.0\n",
      "14    2018   36        Web Developer     NaN        WO         3.0  2100.0\n",
      "18    2018   34       Cloud Engineer     NaN       HBO        15.0  5150.0\n",
      "...    ...  ...                  ...     ...       ...         ...     ...\n",
      "1120  2021   24  Front-end Developer     NaN       HBO         0.0  2600.0\n",
      "1121  2021   24       Lead Developer     NaN       NaN         6.0  7679.0\n",
      "1122  2021   24    Software Engineer     NaN       HBO         2.0  2600.0\n",
      "1127  2021   23   Low Code Developer     NaN       HBO         2.0  3700.0\n",
      "1128  2021   23   Helpdeskmedewerker     NaN       MBO         0.0  2550.0\n",
      "\n",
      "[327 rows x 7 columns]\n"
     ]
    }
   ],
   "source": [
    "df_missing = df[df.isna().any(axis=1)]\n",
    "print(df_missing)"
   ]
  },
  {
   "cell_type": "code",
   "execution_count": null,
   "metadata": {},
   "outputs": [
    {
     "name": "stderr",
     "output_type": "stream",
     "text": [
      "C:\\Users\\Gamer\\AppData\\Local\\Temp\\ipykernel_30044\\2797444730.py:2: FutureWarning: A value is trying to be set on a copy of a DataFrame or Series through chained assignment using an inplace method.\n",
      "The behavior will change in pandas 3.0. This inplace method will never work because the intermediate object on which we are setting values always behaves as a copy.\n",
      "\n",
      "For example, when doing 'df[col].method(value, inplace=True)', try using 'df.method({col: value}, inplace=True)' or df[col] = df[col].method(value) instead, to perform the operation inplace on the original object.\n",
      "\n",
      "\n",
      "  df['Education'].fillna('Unknown', inplace=True)\n"
     ]
    },
    {
     "data": {
      "text/html": [
       "<div>\n",
       "<style scoped>\n",
       "    .dataframe tbody tr th:only-of-type {\n",
       "        vertical-align: middle;\n",
       "    }\n",
       "\n",
       "    .dataframe tbody tr th {\n",
       "        vertical-align: top;\n",
       "    }\n",
       "\n",
       "    .dataframe thead th {\n",
       "        text-align: right;\n",
       "    }\n",
       "</style>\n",
       "<table border=\"1\" class=\"dataframe\">\n",
       "  <thead>\n",
       "    <tr style=\"text-align: right;\">\n",
       "      <th></th>\n",
       "      <th>Year</th>\n",
       "      <th>Age</th>\n",
       "      <th>Role</th>\n",
       "      <th>City</th>\n",
       "      <th>Education</th>\n",
       "      <th>Experience</th>\n",
       "      <th>Salary</th>\n",
       "    </tr>\n",
       "  </thead>\n",
       "  <tbody>\n",
       "    <tr>\n",
       "      <th>0</th>\n",
       "      <td>2018</td>\n",
       "      <td>47</td>\n",
       "      <td>Helpdeskmanager</td>\n",
       "      <td>Apeldoorn</td>\n",
       "      <td>HBO</td>\n",
       "      <td>25.0</td>\n",
       "      <td>4950.0</td>\n",
       "    </tr>\n",
       "    <tr>\n",
       "      <th>1</th>\n",
       "      <td>2018</td>\n",
       "      <td>42</td>\n",
       "      <td>Applicatiebeheerder</td>\n",
       "      <td>Almelo</td>\n",
       "      <td>HAVO</td>\n",
       "      <td>10.0</td>\n",
       "      <td>4086.0</td>\n",
       "    </tr>\n",
       "    <tr>\n",
       "      <th>2</th>\n",
       "      <td>2018</td>\n",
       "      <td>42</td>\n",
       "      <td>BI Consultant</td>\n",
       "      <td>NaN</td>\n",
       "      <td>MBO</td>\n",
       "      <td>25.0</td>\n",
       "      <td>4400.0</td>\n",
       "    </tr>\n",
       "    <tr>\n",
       "      <th>3</th>\n",
       "      <td>2018</td>\n",
       "      <td>39</td>\n",
       "      <td>Software Engineer</td>\n",
       "      <td>Amsterdam</td>\n",
       "      <td>MBO</td>\n",
       "      <td>6.0</td>\n",
       "      <td>3600.0</td>\n",
       "    </tr>\n",
       "    <tr>\n",
       "      <th>4</th>\n",
       "      <td>2018</td>\n",
       "      <td>38</td>\n",
       "      <td>IT Consultant</td>\n",
       "      <td>Mierlo</td>\n",
       "      <td>HBO</td>\n",
       "      <td>15.0</td>\n",
       "      <td>4900.0</td>\n",
       "    </tr>\n",
       "    <tr>\n",
       "      <th>...</th>\n",
       "      <td>...</td>\n",
       "      <td>...</td>\n",
       "      <td>...</td>\n",
       "      <td>...</td>\n",
       "      <td>...</td>\n",
       "      <td>...</td>\n",
       "      <td>...</td>\n",
       "    </tr>\n",
       "    <tr>\n",
       "      <th>1129</th>\n",
       "      <td>2021</td>\n",
       "      <td>23</td>\n",
       "      <td>Data Scientist</td>\n",
       "      <td>Randstad</td>\n",
       "      <td>WO</td>\n",
       "      <td>0.0</td>\n",
       "      <td>3750.0</td>\n",
       "    </tr>\n",
       "    <tr>\n",
       "      <th>1130</th>\n",
       "      <td>2021</td>\n",
       "      <td>23</td>\n",
       "      <td>System Administrator</td>\n",
       "      <td>Arnhem</td>\n",
       "      <td>MBO</td>\n",
       "      <td>0.0</td>\n",
       "      <td>2375.0</td>\n",
       "    </tr>\n",
       "    <tr>\n",
       "      <th>1131</th>\n",
       "      <td>2021</td>\n",
       "      <td>22</td>\n",
       "      <td>Software Engineer</td>\n",
       "      <td>Hengelo</td>\n",
       "      <td>HBO</td>\n",
       "      <td>0.0</td>\n",
       "      <td>2850.0</td>\n",
       "    </tr>\n",
       "    <tr>\n",
       "      <th>1132</th>\n",
       "      <td>2021</td>\n",
       "      <td>22</td>\n",
       "      <td>Software Engineer</td>\n",
       "      <td>Arnhem</td>\n",
       "      <td>HBO</td>\n",
       "      <td>0.0</td>\n",
       "      <td>2500.0</td>\n",
       "    </tr>\n",
       "    <tr>\n",
       "      <th>1133</th>\n",
       "      <td>2021</td>\n",
       "      <td>21</td>\n",
       "      <td>Software Engineer</td>\n",
       "      <td>Breda</td>\n",
       "      <td>MBO</td>\n",
       "      <td>1.0</td>\n",
       "      <td>2385.0</td>\n",
       "    </tr>\n",
       "  </tbody>\n",
       "</table>\n",
       "<p>1134 rows × 7 columns</p>\n",
       "</div>"
      ],
      "text/plain": [
       "      Year  Age                  Role       City Education  Experience  Salary\n",
       "0     2018   47       Helpdeskmanager  Apeldoorn       HBO        25.0  4950.0\n",
       "1     2018   42   Applicatiebeheerder     Almelo      HAVO        10.0  4086.0\n",
       "2     2018   42         BI Consultant        NaN       MBO        25.0  4400.0\n",
       "3     2018   39     Software Engineer  Amsterdam       MBO         6.0  3600.0\n",
       "4     2018   38         IT Consultant     Mierlo       HBO        15.0  4900.0\n",
       "...    ...  ...                   ...        ...       ...         ...     ...\n",
       "1129  2021   23        Data Scientist   Randstad        WO         0.0  3750.0\n",
       "1130  2021   23  System Administrator     Arnhem       MBO         0.0  2375.0\n",
       "1131  2021   22     Software Engineer    Hengelo       HBO         0.0  2850.0\n",
       "1132  2021   22     Software Engineer     Arnhem       HBO         0.0  2500.0\n",
       "1133  2021   21     Software Engineer      Breda       MBO         1.0  2385.0\n",
       "\n",
       "[1134 rows x 7 columns]"
      ]
     },
     "execution_count": 5,
     "metadata": {},
     "output_type": "execute_result"
    }
   ],
   "source": [
    "df['Education'].fillna('Unknown', inplace=True)\n",
    "df"
   ]
  },
  {
   "cell_type": "code",
   "execution_count": null,
   "metadata": {},
   "outputs": [
    {
     "name": "stderr",
     "output_type": "stream",
     "text": [
      "C:\\Users\\Gamer\\AppData\\Local\\Temp\\ipykernel_30044\\122011522.py:2: FutureWarning: A value is trying to be set on a copy of a DataFrame or Series through chained assignment using an inplace method.\n",
      "The behavior will change in pandas 3.0. This inplace method will never work because the intermediate object on which we are setting values always behaves as a copy.\n",
      "\n",
      "For example, when doing 'df[col].method(value, inplace=True)', try using 'df.method({col: value}, inplace=True)' or df[col] = df[col].method(value) instead, to perform the operation inplace on the original object.\n",
      "\n",
      "\n",
      "  df['Salary'].fillna(df['Salary'].mean(), inplace=True)\n"
     ]
    },
    {
     "data": {
      "text/html": [
       "<div>\n",
       "<style scoped>\n",
       "    .dataframe tbody tr th:only-of-type {\n",
       "        vertical-align: middle;\n",
       "    }\n",
       "\n",
       "    .dataframe tbody tr th {\n",
       "        vertical-align: top;\n",
       "    }\n",
       "\n",
       "    .dataframe thead th {\n",
       "        text-align: right;\n",
       "    }\n",
       "</style>\n",
       "<table border=\"1\" class=\"dataframe\">\n",
       "  <thead>\n",
       "    <tr style=\"text-align: right;\">\n",
       "      <th></th>\n",
       "      <th>Year</th>\n",
       "      <th>Age</th>\n",
       "      <th>Role</th>\n",
       "      <th>City</th>\n",
       "      <th>Education</th>\n",
       "      <th>Experience</th>\n",
       "      <th>Salary</th>\n",
       "    </tr>\n",
       "  </thead>\n",
       "  <tbody>\n",
       "    <tr>\n",
       "      <th>0</th>\n",
       "      <td>2018</td>\n",
       "      <td>47</td>\n",
       "      <td>Helpdeskmanager</td>\n",
       "      <td>Apeldoorn</td>\n",
       "      <td>HBO</td>\n",
       "      <td>25.0</td>\n",
       "      <td>4950.0</td>\n",
       "    </tr>\n",
       "    <tr>\n",
       "      <th>1</th>\n",
       "      <td>2018</td>\n",
       "      <td>42</td>\n",
       "      <td>Applicatiebeheerder</td>\n",
       "      <td>Almelo</td>\n",
       "      <td>HAVO</td>\n",
       "      <td>10.0</td>\n",
       "      <td>4086.0</td>\n",
       "    </tr>\n",
       "    <tr>\n",
       "      <th>2</th>\n",
       "      <td>2018</td>\n",
       "      <td>42</td>\n",
       "      <td>BI Consultant</td>\n",
       "      <td>NaN</td>\n",
       "      <td>MBO</td>\n",
       "      <td>25.0</td>\n",
       "      <td>4400.0</td>\n",
       "    </tr>\n",
       "    <tr>\n",
       "      <th>3</th>\n",
       "      <td>2018</td>\n",
       "      <td>39</td>\n",
       "      <td>Software Engineer</td>\n",
       "      <td>Amsterdam</td>\n",
       "      <td>MBO</td>\n",
       "      <td>6.0</td>\n",
       "      <td>3600.0</td>\n",
       "    </tr>\n",
       "    <tr>\n",
       "      <th>4</th>\n",
       "      <td>2018</td>\n",
       "      <td>38</td>\n",
       "      <td>IT Consultant</td>\n",
       "      <td>Mierlo</td>\n",
       "      <td>HBO</td>\n",
       "      <td>15.0</td>\n",
       "      <td>4900.0</td>\n",
       "    </tr>\n",
       "    <tr>\n",
       "      <th>...</th>\n",
       "      <td>...</td>\n",
       "      <td>...</td>\n",
       "      <td>...</td>\n",
       "      <td>...</td>\n",
       "      <td>...</td>\n",
       "      <td>...</td>\n",
       "      <td>...</td>\n",
       "    </tr>\n",
       "    <tr>\n",
       "      <th>1129</th>\n",
       "      <td>2021</td>\n",
       "      <td>23</td>\n",
       "      <td>Data Scientist</td>\n",
       "      <td>Randstad</td>\n",
       "      <td>WO</td>\n",
       "      <td>0.0</td>\n",
       "      <td>3750.0</td>\n",
       "    </tr>\n",
       "    <tr>\n",
       "      <th>1130</th>\n",
       "      <td>2021</td>\n",
       "      <td>23</td>\n",
       "      <td>System Administrator</td>\n",
       "      <td>Arnhem</td>\n",
       "      <td>MBO</td>\n",
       "      <td>0.0</td>\n",
       "      <td>2375.0</td>\n",
       "    </tr>\n",
       "    <tr>\n",
       "      <th>1131</th>\n",
       "      <td>2021</td>\n",
       "      <td>22</td>\n",
       "      <td>Software Engineer</td>\n",
       "      <td>Hengelo</td>\n",
       "      <td>HBO</td>\n",
       "      <td>0.0</td>\n",
       "      <td>2850.0</td>\n",
       "    </tr>\n",
       "    <tr>\n",
       "      <th>1132</th>\n",
       "      <td>2021</td>\n",
       "      <td>22</td>\n",
       "      <td>Software Engineer</td>\n",
       "      <td>Arnhem</td>\n",
       "      <td>HBO</td>\n",
       "      <td>0.0</td>\n",
       "      <td>2500.0</td>\n",
       "    </tr>\n",
       "    <tr>\n",
       "      <th>1133</th>\n",
       "      <td>2021</td>\n",
       "      <td>21</td>\n",
       "      <td>Software Engineer</td>\n",
       "      <td>Breda</td>\n",
       "      <td>MBO</td>\n",
       "      <td>1.0</td>\n",
       "      <td>2385.0</td>\n",
       "    </tr>\n",
       "  </tbody>\n",
       "</table>\n",
       "<p>1134 rows × 7 columns</p>\n",
       "</div>"
      ],
      "text/plain": [
       "      Year  Age                  Role       City Education  Experience  Salary\n",
       "0     2018   47       Helpdeskmanager  Apeldoorn       HBO        25.0  4950.0\n",
       "1     2018   42   Applicatiebeheerder     Almelo      HAVO        10.0  4086.0\n",
       "2     2018   42         BI Consultant        NaN       MBO        25.0  4400.0\n",
       "3     2018   39     Software Engineer  Amsterdam       MBO         6.0  3600.0\n",
       "4     2018   38         IT Consultant     Mierlo       HBO        15.0  4900.0\n",
       "...    ...  ...                   ...        ...       ...         ...     ...\n",
       "1129  2021   23        Data Scientist   Randstad        WO         0.0  3750.0\n",
       "1130  2021   23  System Administrator     Arnhem       MBO         0.0  2375.0\n",
       "1131  2021   22     Software Engineer    Hengelo       HBO         0.0  2850.0\n",
       "1132  2021   22     Software Engineer     Arnhem       HBO         0.0  2500.0\n",
       "1133  2021   21     Software Engineer      Breda       MBO         1.0  2385.0\n",
       "\n",
       "[1134 rows x 7 columns]"
      ]
     },
     "execution_count": 6,
     "metadata": {},
     "output_type": "execute_result"
    }
   ],
   "source": [
    "df['Salary'].fillna(df['Salary'].mean(), inplace=True)\n",
    "\n",
    "df"
   ]
  },
  {
   "cell_type": "code",
   "execution_count": null,
   "metadata": {},
   "outputs": [
    {
     "data": {
      "text/html": [
       "<div>\n",
       "<style scoped>\n",
       "    .dataframe tbody tr th:only-of-type {\n",
       "        vertical-align: middle;\n",
       "    }\n",
       "\n",
       "    .dataframe tbody tr th {\n",
       "        vertical-align: top;\n",
       "    }\n",
       "\n",
       "    .dataframe thead th {\n",
       "        text-align: right;\n",
       "    }\n",
       "</style>\n",
       "<table border=\"1\" class=\"dataframe\">\n",
       "  <thead>\n",
       "    <tr style=\"text-align: right;\">\n",
       "      <th></th>\n",
       "      <th>Year</th>\n",
       "      <th>Age</th>\n",
       "      <th>Role</th>\n",
       "      <th>City</th>\n",
       "      <th>Education</th>\n",
       "      <th>Experience</th>\n",
       "      <th>Salary</th>\n",
       "    </tr>\n",
       "  </thead>\n",
       "  <tbody>\n",
       "    <tr>\n",
       "      <th>0</th>\n",
       "      <td>2018</td>\n",
       "      <td>47</td>\n",
       "      <td>Helpdeskmanager</td>\n",
       "      <td>Apeldoorn</td>\n",
       "      <td>HBO</td>\n",
       "      <td>25.0</td>\n",
       "      <td>4950.0</td>\n",
       "    </tr>\n",
       "    <tr>\n",
       "      <th>1</th>\n",
       "      <td>2018</td>\n",
       "      <td>42</td>\n",
       "      <td>Applicatiebeheerder</td>\n",
       "      <td>Almelo</td>\n",
       "      <td>HAVO</td>\n",
       "      <td>10.0</td>\n",
       "      <td>4086.0</td>\n",
       "    </tr>\n",
       "    <tr>\n",
       "      <th>2</th>\n",
       "      <td>2018</td>\n",
       "      <td>42</td>\n",
       "      <td>BI Consultant</td>\n",
       "      <td>NaN</td>\n",
       "      <td>MBO</td>\n",
       "      <td>25.0</td>\n",
       "      <td>4400.0</td>\n",
       "    </tr>\n",
       "    <tr>\n",
       "      <th>3</th>\n",
       "      <td>2018</td>\n",
       "      <td>39</td>\n",
       "      <td>Software Engineer</td>\n",
       "      <td>Amsterdam</td>\n",
       "      <td>MBO</td>\n",
       "      <td>6.0</td>\n",
       "      <td>3600.0</td>\n",
       "    </tr>\n",
       "    <tr>\n",
       "      <th>4</th>\n",
       "      <td>2018</td>\n",
       "      <td>38</td>\n",
       "      <td>IT Consultant</td>\n",
       "      <td>Mierlo</td>\n",
       "      <td>HBO</td>\n",
       "      <td>15.0</td>\n",
       "      <td>4900.0</td>\n",
       "    </tr>\n",
       "    <tr>\n",
       "      <th>...</th>\n",
       "      <td>...</td>\n",
       "      <td>...</td>\n",
       "      <td>...</td>\n",
       "      <td>...</td>\n",
       "      <td>...</td>\n",
       "      <td>...</td>\n",
       "      <td>...</td>\n",
       "    </tr>\n",
       "    <tr>\n",
       "      <th>1129</th>\n",
       "      <td>2021</td>\n",
       "      <td>23</td>\n",
       "      <td>Data Scientist</td>\n",
       "      <td>Randstad</td>\n",
       "      <td>WO</td>\n",
       "      <td>0.0</td>\n",
       "      <td>3750.0</td>\n",
       "    </tr>\n",
       "    <tr>\n",
       "      <th>1130</th>\n",
       "      <td>2021</td>\n",
       "      <td>23</td>\n",
       "      <td>System Administrator</td>\n",
       "      <td>Arnhem</td>\n",
       "      <td>MBO</td>\n",
       "      <td>0.0</td>\n",
       "      <td>2375.0</td>\n",
       "    </tr>\n",
       "    <tr>\n",
       "      <th>1131</th>\n",
       "      <td>2021</td>\n",
       "      <td>22</td>\n",
       "      <td>Software Engineer</td>\n",
       "      <td>Hengelo</td>\n",
       "      <td>HBO</td>\n",
       "      <td>0.0</td>\n",
       "      <td>2850.0</td>\n",
       "    </tr>\n",
       "    <tr>\n",
       "      <th>1132</th>\n",
       "      <td>2021</td>\n",
       "      <td>22</td>\n",
       "      <td>Software Engineer</td>\n",
       "      <td>Arnhem</td>\n",
       "      <td>HBO</td>\n",
       "      <td>0.0</td>\n",
       "      <td>2500.0</td>\n",
       "    </tr>\n",
       "    <tr>\n",
       "      <th>1133</th>\n",
       "      <td>2021</td>\n",
       "      <td>21</td>\n",
       "      <td>Software Engineer</td>\n",
       "      <td>Breda</td>\n",
       "      <td>MBO</td>\n",
       "      <td>1.0</td>\n",
       "      <td>2385.0</td>\n",
       "    </tr>\n",
       "  </tbody>\n",
       "</table>\n",
       "<p>1134 rows × 7 columns</p>\n",
       "</div>"
      ],
      "text/plain": [
       "      Year  Age                  Role       City Education  Experience  Salary\n",
       "0     2018   47       Helpdeskmanager  Apeldoorn       HBO        25.0  4950.0\n",
       "1     2018   42   Applicatiebeheerder     Almelo      HAVO        10.0  4086.0\n",
       "2     2018   42         BI Consultant        NaN       MBO        25.0  4400.0\n",
       "3     2018   39     Software Engineer  Amsterdam       MBO         6.0  3600.0\n",
       "4     2018   38         IT Consultant     Mierlo       HBO        15.0  4900.0\n",
       "...    ...  ...                   ...        ...       ...         ...     ...\n",
       "1129  2021   23        Data Scientist   Randstad        WO         0.0  3750.0\n",
       "1130  2021   23  System Administrator     Arnhem       MBO         0.0  2375.0\n",
       "1131  2021   22     Software Engineer    Hengelo       HBO         0.0  2850.0\n",
       "1132  2021   22     Software Engineer     Arnhem       HBO         0.0  2500.0\n",
       "1133  2021   21     Software Engineer      Breda       MBO         1.0  2385.0\n",
       "\n",
       "[1134 rows x 7 columns]"
      ]
     },
     "execution_count": 7,
     "metadata": {},
     "output_type": "execute_result"
    }
   ],
   "source": [
    "df.dropna(subset=['City'])\n",
    "df"
   ]
  },
  {
   "cell_type": "code",
   "execution_count": null,
   "metadata": {},
   "outputs": [
    {
     "name": "stderr",
     "output_type": "stream",
     "text": [
      "C:\\Users\\Gamer\\AppData\\Local\\Temp\\ipykernel_30044\\1034986529.py:2: FutureWarning: A value is trying to be set on a copy of a DataFrame or Series through chained assignment using an inplace method.\n",
      "The behavior will change in pandas 3.0. This inplace method will never work because the intermediate object on which we are setting values always behaves as a copy.\n",
      "\n",
      "For example, when doing 'df[col].method(value, inplace=True)', try using 'df.method({col: value}, inplace=True)' or df[col] = df[col].method(value) instead, to perform the operation inplace on the original object.\n",
      "\n",
      "\n",
      "  df['Experience'].fillna(df['Experience'].mean(), inplace=True)\n"
     ]
    },
    {
     "data": {
      "text/html": [
       "<div>\n",
       "<style scoped>\n",
       "    .dataframe tbody tr th:only-of-type {\n",
       "        vertical-align: middle;\n",
       "    }\n",
       "\n",
       "    .dataframe tbody tr th {\n",
       "        vertical-align: top;\n",
       "    }\n",
       "\n",
       "    .dataframe thead th {\n",
       "        text-align: right;\n",
       "    }\n",
       "</style>\n",
       "<table border=\"1\" class=\"dataframe\">\n",
       "  <thead>\n",
       "    <tr style=\"text-align: right;\">\n",
       "      <th></th>\n",
       "      <th>Year</th>\n",
       "      <th>Age</th>\n",
       "      <th>Role</th>\n",
       "      <th>City</th>\n",
       "      <th>Education</th>\n",
       "      <th>Experience</th>\n",
       "      <th>Salary</th>\n",
       "    </tr>\n",
       "  </thead>\n",
       "  <tbody>\n",
       "    <tr>\n",
       "      <th>0</th>\n",
       "      <td>2018</td>\n",
       "      <td>47</td>\n",
       "      <td>Helpdeskmanager</td>\n",
       "      <td>Apeldoorn</td>\n",
       "      <td>HBO</td>\n",
       "      <td>25.0</td>\n",
       "      <td>4950.0</td>\n",
       "    </tr>\n",
       "    <tr>\n",
       "      <th>1</th>\n",
       "      <td>2018</td>\n",
       "      <td>42</td>\n",
       "      <td>Applicatiebeheerder</td>\n",
       "      <td>Almelo</td>\n",
       "      <td>HAVO</td>\n",
       "      <td>10.0</td>\n",
       "      <td>4086.0</td>\n",
       "    </tr>\n",
       "    <tr>\n",
       "      <th>2</th>\n",
       "      <td>2018</td>\n",
       "      <td>42</td>\n",
       "      <td>BI Consultant</td>\n",
       "      <td>NaN</td>\n",
       "      <td>MBO</td>\n",
       "      <td>25.0</td>\n",
       "      <td>4400.0</td>\n",
       "    </tr>\n",
       "    <tr>\n",
       "      <th>3</th>\n",
       "      <td>2018</td>\n",
       "      <td>39</td>\n",
       "      <td>Software Engineer</td>\n",
       "      <td>Amsterdam</td>\n",
       "      <td>MBO</td>\n",
       "      <td>6.0</td>\n",
       "      <td>3600.0</td>\n",
       "    </tr>\n",
       "    <tr>\n",
       "      <th>4</th>\n",
       "      <td>2018</td>\n",
       "      <td>38</td>\n",
       "      <td>IT Consultant</td>\n",
       "      <td>Mierlo</td>\n",
       "      <td>HBO</td>\n",
       "      <td>15.0</td>\n",
       "      <td>4900.0</td>\n",
       "    </tr>\n",
       "    <tr>\n",
       "      <th>...</th>\n",
       "      <td>...</td>\n",
       "      <td>...</td>\n",
       "      <td>...</td>\n",
       "      <td>...</td>\n",
       "      <td>...</td>\n",
       "      <td>...</td>\n",
       "      <td>...</td>\n",
       "    </tr>\n",
       "    <tr>\n",
       "      <th>1129</th>\n",
       "      <td>2021</td>\n",
       "      <td>23</td>\n",
       "      <td>Data Scientist</td>\n",
       "      <td>Randstad</td>\n",
       "      <td>WO</td>\n",
       "      <td>0.0</td>\n",
       "      <td>3750.0</td>\n",
       "    </tr>\n",
       "    <tr>\n",
       "      <th>1130</th>\n",
       "      <td>2021</td>\n",
       "      <td>23</td>\n",
       "      <td>System Administrator</td>\n",
       "      <td>Arnhem</td>\n",
       "      <td>MBO</td>\n",
       "      <td>0.0</td>\n",
       "      <td>2375.0</td>\n",
       "    </tr>\n",
       "    <tr>\n",
       "      <th>1131</th>\n",
       "      <td>2021</td>\n",
       "      <td>22</td>\n",
       "      <td>Software Engineer</td>\n",
       "      <td>Hengelo</td>\n",
       "      <td>HBO</td>\n",
       "      <td>0.0</td>\n",
       "      <td>2850.0</td>\n",
       "    </tr>\n",
       "    <tr>\n",
       "      <th>1132</th>\n",
       "      <td>2021</td>\n",
       "      <td>22</td>\n",
       "      <td>Software Engineer</td>\n",
       "      <td>Arnhem</td>\n",
       "      <td>HBO</td>\n",
       "      <td>0.0</td>\n",
       "      <td>2500.0</td>\n",
       "    </tr>\n",
       "    <tr>\n",
       "      <th>1133</th>\n",
       "      <td>2021</td>\n",
       "      <td>21</td>\n",
       "      <td>Software Engineer</td>\n",
       "      <td>Breda</td>\n",
       "      <td>MBO</td>\n",
       "      <td>1.0</td>\n",
       "      <td>2385.0</td>\n",
       "    </tr>\n",
       "  </tbody>\n",
       "</table>\n",
       "<p>1134 rows × 7 columns</p>\n",
       "</div>"
      ],
      "text/plain": [
       "      Year  Age                  Role       City Education  Experience  Salary\n",
       "0     2018   47       Helpdeskmanager  Apeldoorn       HBO        25.0  4950.0\n",
       "1     2018   42   Applicatiebeheerder     Almelo      HAVO        10.0  4086.0\n",
       "2     2018   42         BI Consultant        NaN       MBO        25.0  4400.0\n",
       "3     2018   39     Software Engineer  Amsterdam       MBO         6.0  3600.0\n",
       "4     2018   38         IT Consultant     Mierlo       HBO        15.0  4900.0\n",
       "...    ...  ...                   ...        ...       ...         ...     ...\n",
       "1129  2021   23        Data Scientist   Randstad        WO         0.0  3750.0\n",
       "1130  2021   23  System Administrator     Arnhem       MBO         0.0  2375.0\n",
       "1131  2021   22     Software Engineer    Hengelo       HBO         0.0  2850.0\n",
       "1132  2021   22     Software Engineer     Arnhem       HBO         0.0  2500.0\n",
       "1133  2021   21     Software Engineer      Breda       MBO         1.0  2385.0\n",
       "\n",
       "[1134 rows x 7 columns]"
      ]
     },
     "execution_count": 8,
     "metadata": {},
     "output_type": "execute_result"
    }
   ],
   "source": [
    "df['Experience'].fillna(df['Experience'].mean(), inplace=True)\n",
    "\n",
    "df"
   ]
  },
  {
   "cell_type": "markdown",
   "metadata": {},
   "source": [
    "## Removing Duplicates"
   ]
  },
  {
   "cell_type": "markdown",
   "metadata": {},
   "source": [
    "\n",
    "· Check if there are any duplicate rows.\n",
    "\n",
    "· If duplicates exist, remove them while keeping only the first occurrence."
   ]
  },
  {
   "cell_type": "code",
   "execution_count": null,
   "metadata": {},
   "outputs": [
    {
     "name": "stdout",
     "output_type": "stream",
     "text": [
      "True\n"
     ]
    }
   ],
   "source": [
    "is_duplicated = df.duplicated().any()\n",
    "print(is_duplicated)\n",
    "\n"
   ]
  },
  {
   "cell_type": "code",
   "execution_count": null,
   "metadata": {},
   "outputs": [],
   "source": [
    "df.drop_duplicates(inplace=True)\n"
   ]
  },
  {
   "cell_type": "markdown",
   "metadata": {},
   "source": [
    "# Detecting Outliers"
   ]
  },
  {
   "cell_type": "markdown",
   "metadata": {},
   "source": [
    "· Use the Interquartile Range (IQR) method to identify potential outliers in Salary.\n",
    "\n",
    "· Display the rows containing salary outliers.\n",
    "\n",
    "· Remove detected outliers from the dataset.\n"
   ]
  },
  {
   "cell_type": "code",
   "execution_count": null,
   "metadata": {},
   "outputs": [],
   "source": [
    "Q1 = df[\"Salary\"].quantile(0.25)\n",
    "Q3 = df[\"Salary\"].quantile(0.75)\n",
    "IQR = Q3 - Q1\n",
    "Outliers = df[(df[\"Salary\"] < (Q1 - 1.5 * IQR)) | (df[\"Salary\"] > (Q3 + 1.5 * IQR))]\n"
   ]
  },
  {
   "cell_type": "code",
   "execution_count": null,
   "metadata": {},
   "outputs": [
    {
     "name": "stdout",
     "output_type": "stream",
     "text": [
      "      Year  Age                                   Role           City  \\\n",
      "24    2018   32                 Integration consultant       Randstad   \n",
      "114   2019   50            IT infrastructuur Architect            NaN   \n",
      "115   2019   49                      Solution Engineer            NaN   \n",
      "126   2019   40           Manager Business Development            NaN   \n",
      "127   2019   40               Service Delivery Manager           Lund   \n",
      "135   2019   38                     Solution Architect       Randstad   \n",
      "138   2019   38                             IT Auditor      Amsterdam   \n",
      "188   2019   33                      Solution Engineer            NaN   \n",
      "214   2019   32                           Data Analyst       randstad   \n",
      "219   2019   32  Programmamanager met 8 direct reports       Randstad   \n",
      "244   2019   31                        Success Manager      Amsterdam   \n",
      "268   2019   30                    Front-end Developer        Tilburg   \n",
      "305   2019   29                      Software Engineer        Utrecht   \n",
      "448   2019   25              Consultant/Data scientist       Randstad   \n",
      "531   2019   23                         Lead Developer            NaN   \n",
      "560   2019   21                    Front-end Developer      Amsterdam   \n",
      "565   2020   52                         Projectmanager        Utrecht   \n",
      "570   2020   41                           Test Manager       randstad   \n",
      "572   2020   40                         Cloud Engineer      Eindhoven   \n",
      "573   2020   40                       Support Engineer            NaN   \n",
      "578   2020   39                             IT Manager      Eindhoven   \n",
      "580   2020   39                             IT Manager       Randstad   \n",
      "583   2020   39                     Solution Architect       Randstad   \n",
      "593   2020   36                             IT Manager            NaN   \n",
      "599   2020   36                    Front-end Developer            NaN   \n",
      "600   2020   36                         Lead Developer      Eindhoven   \n",
      "602   2020   36               Customer Success Manager        Utrecht   \n",
      "623   2020   34                         Cloud Engineer        Utrecht   \n",
      "667   2020   31                             IT Manager  Noord-Holland   \n",
      "688   2020   30                             IT Manager  Noord-Holland   \n",
      "774   2020   28                         Data Scientist      Amsterdam   \n",
      "821   2020   26                       Business Analyst        Utrecht   \n",
      "926   2021   48                     Technical Director      Amsterdam   \n",
      "933   2021   40                             IT Manager      Eindhoven   \n",
      "934   2021   40                   Development Engineer      Eindhoven   \n",
      "937   2021   39                     Software architect       randstad   \n",
      "938   2021   39                         Lead Developer       Randstad   \n",
      "943   2021   38                             IT Manager   Brabant-Zuid   \n",
      "953   2021   36                             IT Manager      Rotterdam   \n",
      "978   2021   33                             IT Manager  Noord-Holland   \n",
      "989   2021   32                          Product Owner     Gelderland   \n",
      "1003  2021   31                   Technical Consultant      Eindhoven   \n",
      "1011  2021   30                      Software Engineer        Utrecht   \n",
      "1026  2021   30                       Security Manager            NaN   \n",
      "1068  2021   27                      Software Engineer            NaN   \n",
      "1075  2021   26                      Software Engineer            NaN   \n",
      "1080  2021   26                      Software Engineer      Eindhoven   \n",
      "1100  2021   25                         Lead Developer            NaN   \n",
      "1121  2021   24                         Lead Developer            NaN   \n",
      "\n",
      "     Education  Experience   Salary  \n",
      "24         HBO         8.0  10000.0  \n",
      "114        MBO        28.0   6500.0  \n",
      "115    Unknown         7.0   6300.0  \n",
      "126         WO        16.0   9100.0  \n",
      "127        HBO         2.0   6400.0  \n",
      "135        HBO        20.0  10780.0  \n",
      "138         WO        15.0   7560.0  \n",
      "188        HBO        10.0   6250.0  \n",
      "214        HBO         7.0   6465.0  \n",
      "219         WO         9.0   6700.0  \n",
      "244    Unknown         5.0   6875.0  \n",
      "268    Unknown         6.0      2.0  \n",
      "305        HBO         6.0   6400.0  \n",
      "448         WO         1.0      3.0  \n",
      "531        HBO         9.0   7983.0  \n",
      "560    Unknown         4.0      3.0  \n",
      "565        HBO        30.0   7100.0  \n",
      "570        HBO         3.0   6275.0  \n",
      "572        HBO        16.0   8328.0  \n",
      "573        HBO        20.0   6666.0  \n",
      "578         WO        13.0   8565.0  \n",
      "580       HAVO        20.0   6714.0  \n",
      "583        HBO        21.0  11137.0  \n",
      "593        HBO        12.0   7474.0  \n",
      "599    Unknown        19.0   7200.0  \n",
      "600        HBO        16.0   6500.0  \n",
      "602        HBO        15.0   6374.0  \n",
      "623        MBO        15.0   6300.0  \n",
      "667         WO         6.0   6700.0  \n",
      "688         WO         5.0   6300.0  \n",
      "774         WO         4.0   6800.0  \n",
      "821        HBO         1.0     36.0  \n",
      "926    Unknown        25.0   7200.0  \n",
      "933         WO        14.0   8178.0  \n",
      "934         WO        13.0   6800.0  \n",
      "937         WO        13.0   6400.0  \n",
      "938        MBO        15.0   7700.0  \n",
      "943         WO        19.0   9075.0  \n",
      "953         WO        11.0   8833.0  \n",
      "978        MBO        13.0   8900.0  \n",
      "989        HBO         5.0   6350.0  \n",
      "1003       MBO        12.0    143.0  \n",
      "1011       HBO         8.0   6500.0  \n",
      "1026        WO         7.0   6900.0  \n",
      "1068       HBO         4.0   6500.0  \n",
      "1075       HBO         1.0      2.0  \n",
      "1080       HBO         1.0      3.0  \n",
      "1100       HBO        10.0   9083.0  \n",
      "1121   Unknown         6.0   7679.0  \n"
     ]
    }
   ],
   "source": [
    "print(Outliers)"
   ]
  },
  {
   "cell_type": "code",
   "execution_count": null,
   "metadata": {},
   "outputs": [],
   "source": [
    "for i in Outliers.index:\n",
    "    df.drop(i, inplace=True)\n",
    "\n"
   ]
  },
  {
   "cell_type": "markdown",
   "metadata": {},
   "source": [
    "# GroupBy Operations"
   ]
  },
  {
   "cell_type": "markdown",
   "metadata": {},
   "source": [
    "· Group the data by City and calculate:\n",
    "\n",
    "o The average salary in each city.\n",
    "\n",
    "o The number of roles in each city.\n",
    "\n",
    "· Group the data by Education and find the maximum salary for each education level.\n",
    "\n",
    "· Group the data by Seniority and find the median salary for each seniority level."
   ]
  },
  {
   "cell_type": "code",
   "execution_count": 14,
   "metadata": {},
   "outputs": [
    {
     "name": "stdout",
     "output_type": "stream",
     "text": [
      "Avg salary: \n",
      " City\n",
      "'s Hertogenbosch    3300.000000\n",
      "(Zuid) Limburg      3000.000000\n",
      "Achterhoek          2604.000000\n",
      "Alkmaar             3633.333333\n",
      "Almelo              3418.000000\n",
      "                       ...     \n",
      "de Meern            2700.000000\n",
      "dokkum              2500.000000\n",
      "vogelenzang         5450.000000\n",
      "zuid Limburg        2145.000000\n",
      "zwijndrecht         3472.000000\n",
      "Name: Salary, Length: 133, dtype: float64\n",
      "Role count: \n",
      " City\n",
      "'s Hertogenbosch    9\n",
      "(Zuid) Limburg      1\n",
      "Achterhoek          1\n",
      "Alkmaar             3\n",
      "Almelo              2\n",
      "                   ..\n",
      "de Meern            1\n",
      "dokkum              1\n",
      "vogelenzang         1\n",
      "zuid Limburg        1\n",
      "zwijndrecht         1\n",
      "Name: Role, Length: 133, dtype: int64\n"
     ]
    }
   ],
   "source": [
    "avg_salary = df.groupby(\"City\")[\"Salary\"].mean()\n",
    "role_count = df.groupby(\"City\")[\"Role\"].count()\n",
    "print(\"Avg salary: \\n\", avg_salary)\n",
    "print(\"Role count: \\n\", role_count)"
   ]
  },
  {
   "cell_type": "code",
   "execution_count": 15,
   "metadata": {},
   "outputs": [
    {
     "name": "stdout",
     "output_type": "stream",
     "text": [
      "Education\n",
      "B          4300.00000\n",
      "HAVO       5500.00000\n",
      "HBO        6000.00000\n",
      "HBO, WO    3150.00000\n",
      "HIO        4950.00000\n",
      "Havo       3800.00000\n",
      "IT         3511.18347\n",
      "MBO        5996.00000\n",
      "MBOo 3     3240.00000\n",
      "Mavo       4700.00000\n",
      "Unknown    5850.00000\n",
      "VMBO       2100.00000\n",
      "VWO        5473.00000\n",
      "WO         6150.00000\n",
      "ul         3100.00000\n",
      "Name: Salary, dtype: float64\n"
     ]
    }
   ],
   "source": [
    "max_salary = df.groupby(\"Education\")[\"Salary\"].max()\n",
    "print(max_salary)"
   ]
  },
  {
   "cell_type": "code",
   "execution_count": 16,
   "metadata": {},
   "outputs": [
    {
     "name": "stdout",
     "output_type": "stream",
     "text": [
      "Experience\n",
      "0.000000     2600.00000\n",
      "1.000000     2700.00000\n",
      "2.000000     2869.50000\n",
      "3.000000     3049.00000\n",
      "4.000000     3300.00000\n",
      "5.000000     3400.00000\n",
      "5.519469     3105.50000\n",
      "6.000000     3511.18347\n",
      "7.000000     3690.00000\n",
      "8.000000     3619.00000\n",
      "9.000000     3775.00000\n",
      "10.000000    3802.50000\n",
      "11.000000    4124.00000\n",
      "12.000000    4300.00000\n",
      "13.000000    4050.00000\n",
      "14.000000    4243.00000\n",
      "15.000000    5100.00000\n",
      "16.000000    4100.00000\n",
      "17.000000    4300.00000\n",
      "18.000000    3860.00000\n",
      "19.000000    4200.00000\n",
      "20.000000    4400.00000\n",
      "21.000000    4200.00000\n",
      "22.000000    4545.00000\n",
      "25.000000    4400.00000\n",
      "27.000000    4500.00000\n",
      "Name: Salary, dtype: float64\n"
     ]
    }
   ],
   "source": [
    "median_salary = df.groupby(\"Experience\")[\"Salary\"].median()\n",
    "print(median_salary)"
   ]
  },
  {
   "cell_type": "markdown",
   "metadata": {},
   "source": [
    "# Apply and Map Functions"
   ]
  },
  {
   "cell_type": "markdown",
   "metadata": {},
   "source": [
    "· Add a new column Annual Salary by applying a function to calculate Salary x 12.\n",
    "\n",
    "· Use the .map() function to categorize education levels into 'Low', 'Medium', and 'High':\n",
    "\n",
    "o       MBO, Mavo, and Unknown → 'Low'\n",
    "\n",
    "o       HBO → 'Medium'\n",
    "\n",
    "o       WO → 'High'\n",
    "\n",
    "o       Store the new values in a column called Education Level.\n"
   ]
  },
  {
   "cell_type": "code",
   "execution_count": 17,
   "metadata": {},
   "outputs": [
    {
     "name": "stdout",
     "output_type": "stream",
     "text": [
      "0       59400.0\n",
      "1       49032.0\n",
      "2       52800.0\n",
      "3       43200.0\n",
      "4       58800.0\n",
      "         ...   \n",
      "1129    45000.0\n",
      "1130    28500.0\n",
      "1131    34200.0\n",
      "1132    30000.0\n",
      "1133    28620.0\n",
      "Name: Annual Salary, Length: 1078, dtype: float64\n"
     ]
    }
   ],
   "source": [
    "df[\"Annual Salary\"] = df[\"Salary\"] * 12\n",
    "print(df[\"Annual Salary\"])"
   ]
  },
  {
   "cell_type": "code",
   "execution_count": 18,
   "metadata": {},
   "outputs": [
    {
     "name": "stdout",
     "output_type": "stream",
     "text": [
      "0       Medium\n",
      "1          NaN\n",
      "2          Low\n",
      "3          Low\n",
      "4       Medium\n",
      "         ...  \n",
      "1129      High\n",
      "1130       Low\n",
      "1131    Medium\n",
      "1132    Medium\n",
      "1133       Low\n",
      "Name: Education Level, Length: 1078, dtype: object\n"
     ]
    }
   ],
   "source": [
    "education_map = {\n",
    "    \"MBO\": \"Low\",\n",
    "    \"Mavo\": \"Low\",\n",
    "    \"Unknown\": \"Low\",\n",
    "    \"HBO\": \"Medium\",\n",
    "    \"WO\": \"High\"\n",
    "}\n",
    "\n",
    "df[\"Education Level\"] = df[\"Education\"].map(education_map)\n",
    "print(df[\"Education Level\"])"
   ]
  },
  {
   "cell_type": "markdown",
   "metadata": {},
   "source": [
    "# Feature Engineering"
   ]
  },
  {
   "cell_type": "markdown",
   "metadata": {},
   "source": [
    "· Create a new column Year of Birth using the formula: Year - Age.\n",
    "\n",
    "· Create a new column Seniority based on experience:\n",
    "\n",
    "o Less than 5 years → 'Junior'\n",
    "\n",
    "o Between 5 and 10 years → 'Mid-level'\n",
    "\n",
    "o More than 10 years → 'Senior'\n",
    "\n",
    "· Create a new column City Category:\n",
    "\n",
    "o If the city is 'Randstad', 'Amsterdam', or 'Utrecht', categorize it as 'Urban'.\n",
    "\n",
    "o Otherwise, categorize it as 'Non-Urban'.\n",
    "\n",
    "· Create a new column Salary Bracket based on salary:\n",
    "\n",
    "o Less than €3000 → 'Low'\n",
    "\n",
    "o Between €3000 and €5000 → 'Medium'\n",
    "\n",
    "o More than €5000 → 'High'."
   ]
  },
  {
   "cell_type": "code",
   "execution_count": 19,
   "metadata": {},
   "outputs": [],
   "source": [
    "df['Year of Birth'] = df['Year'] - df['Age']"
   ]
  },
  {
   "cell_type": "code",
   "execution_count": 20,
   "metadata": {},
   "outputs": [],
   "source": [
    "df['Seniority'] = pd.cut(df['Experience'], bins=[-1, 5, 10, float('inf')], labels=['Junior', 'Mid-level', 'Senior'])"
   ]
  },
  {
   "cell_type": "code",
   "execution_count": 21,
   "metadata": {},
   "outputs": [],
   "source": [
    "df['City Category'] = df['City'].apply(lambda x: 'Urban' if x in ['Randstad', 'Amsterdam', 'Utrecht'] else 'Non-Urban')"
   ]
  },
  {
   "cell_type": "code",
   "execution_count": 22,
   "metadata": {},
   "outputs": [
    {
     "name": "stdout",
     "output_type": "stream",
     "text": [
      "      Year  Age                  Role       City Education  Experience  \\\n",
      "0     2018   47       Helpdeskmanager  Apeldoorn       HBO        25.0   \n",
      "1     2018   42   Applicatiebeheerder     Almelo      HAVO        10.0   \n",
      "2     2018   42         BI Consultant        NaN       MBO        25.0   \n",
      "3     2018   39     Software Engineer  Amsterdam       MBO         6.0   \n",
      "4     2018   38         IT Consultant     Mierlo       HBO        15.0   \n",
      "...    ...  ...                   ...        ...       ...         ...   \n",
      "1129  2021   23        Data Scientist   Randstad        WO         0.0   \n",
      "1130  2021   23  System Administrator     Arnhem       MBO         0.0   \n",
      "1131  2021   22     Software Engineer    Hengelo       HBO         0.0   \n",
      "1132  2021   22     Software Engineer     Arnhem       HBO         0.0   \n",
      "1133  2021   21     Software Engineer      Breda       MBO         1.0   \n",
      "\n",
      "      Salary  Annual Salary Education Level  Year of Birth  Seniority  \\\n",
      "0     4950.0        59400.0          Medium           1971     Senior   \n",
      "1     4086.0        49032.0             NaN           1976  Mid-level   \n",
      "2     4400.0        52800.0             Low           1976     Senior   \n",
      "3     3600.0        43200.0             Low           1979  Mid-level   \n",
      "4     4900.0        58800.0          Medium           1980     Senior   \n",
      "...      ...            ...             ...            ...        ...   \n",
      "1129  3750.0        45000.0            High           1998     Junior   \n",
      "1130  2375.0        28500.0             Low           1998     Junior   \n",
      "1131  2850.0        34200.0          Medium           1999     Junior   \n",
      "1132  2500.0        30000.0          Medium           1999     Junior   \n",
      "1133  2385.0        28620.0             Low           2000     Junior   \n",
      "\n",
      "     City Category Salary Bracket  \n",
      "0        Non-Urban         Medium  \n",
      "1        Non-Urban         Medium  \n",
      "2        Non-Urban         Medium  \n",
      "3            Urban         Medium  \n",
      "4        Non-Urban         Medium  \n",
      "...            ...            ...  \n",
      "1129         Urban         Medium  \n",
      "1130     Non-Urban            Low  \n",
      "1131     Non-Urban            Low  \n",
      "1132     Non-Urban            Low  \n",
      "1133     Non-Urban            Low  \n",
      "\n",
      "[1078 rows x 13 columns]\n"
     ]
    }
   ],
   "source": [
    "df['Salary Bracket'] = pd.cut(df['Salary'], bins=[-float('inf'), 3000, 5000, float('inf')], labels=['Low', 'Medium', 'High'])\n",
    "print(df)"
   ]
  },
  {
   "cell_type": "markdown",
   "metadata": {},
   "source": [
    "# Advanced Analysis\n"
   ]
  },
  {
   "cell_type": "markdown",
   "metadata": {},
   "source": [
    "· Find the top 5 highest-paying roles.\n",
    "\n",
    "· Find the most common role in the dataset."
   ]
  },
  {
   "cell_type": "code",
   "execution_count": 23,
   "metadata": {},
   "outputs": [
    {
     "name": "stdout",
     "output_type": "stream",
     "text": [
      "Role\n",
      "Manager IT                        6100.0\n",
      "IT Pre-sales                      6000.0\n",
      "Development en project manager    5841.0\n",
      "Systems Development Engineer      5683.0\n",
      "Product Manager                   5500.0\n",
      "Name: Salary, dtype: float64\n"
     ]
    }
   ],
   "source": [
    "top_5 = df.groupby('Role')['Salary'].mean().sort_values(ascending=False).head(5)\n",
    "print(top_5)"
   ]
  },
  {
   "cell_type": "code",
   "execution_count": 24,
   "metadata": {},
   "outputs": [
    {
     "name": "stdout",
     "output_type": "stream",
     "text": [
      "Software Engineer\n"
     ]
    }
   ],
   "source": [
    "common_role = df['Role'].mode()[0]\n",
    "print(common_role)"
   ]
  },
  {
   "cell_type": "markdown",
   "metadata": {},
   "source": [
    "# Save the Cleaned Data\n"
   ]
  },
  {
   "cell_type": "markdown",
   "metadata": {},
   "source": [
    "· Save the final cleaned dataset to a CSV file named cleaned_IT_salaries.csv."
   ]
  },
  {
   "cell_type": "code",
   "execution_count": 26,
   "metadata": {},
   "outputs": [],
   "source": [
    "df.to_csv('cleaned_IT_salaries.csv', index=False)"
   ]
  }
 ],
 "metadata": {
  "kernelspec": {
   "display_name": "base",
   "language": "python",
   "name": "python3"
  },
  "language_info": {
   "codemirror_mode": {
    "name": "ipython",
    "version": 3
   },
   "file_extension": ".py",
   "mimetype": "text/x-python",
   "name": "python",
   "nbconvert_exporter": "python",
   "pygments_lexer": "ipython3",
   "version": "3.12.7"
  }
 },
 "nbformat": 4,
 "nbformat_minor": 4
}
