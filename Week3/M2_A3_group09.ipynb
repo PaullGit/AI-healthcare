{
 "cells": [
  {
   "cell_type": "markdown",
   "metadata": {},
   "source": [
    "# Data Manipulation and Preparation with Pandas\n",
    "_Week 3_\n",
    "\n"
   ]
  },
  {
   "cell_type": "code",
   "execution_count": null,
   "metadata": {},
   "outputs": [],
   "source": [
    "# Loading the dataset\n",
    "import pandas\n",
    "df = pandas.read_csv('netherlands_IT_salaries.csv') \n"
   ]
  },
  {
   "cell_type": "markdown",
   "metadata": {},
   "source": [
    "## Sorting Data"
   ]
  },
  {
   "cell_type": "markdown",
   "metadata": {},
   "source": [
    "- Sort the dataset by Salary in descending order\n",
    "- Sort by City and then by Role, both in ascending order"
   ]
  },
  {
   "cell_type": "code",
   "execution_count": null,
   "metadata": {},
   "outputs": [],
   "source": [
    "# import pandas as pd\n",
    "\n",
    "df = pd.read_excel('netherlands_IT_salaries.xlsx')\n",
    "descending = df.sort_values(by='Salary',ascending=False)\n",
    "\n",
    "city = df.sort_values(by='City',ascending=True)\n",
    "role = df.sort_values(by='Role',ascending=True)"
   ]
  },
  {
   "cell_type": "markdown",
   "metadata": {},
   "source": [
    "## Handling Missing Data\n"
   ]
  },
  {
   "cell_type": "markdown",
   "metadata": {},
   "source": [
    "· Check if there are any missing values in each column.\n",
    "\n",
    "· Display only the rows with missing values.\n",
    "\n",
    "· Fill missing Education values with 'Unknown'.\n",
    "\n",
    "· Replace missing Salary values (if any) with the average salary.\n",
    "\n",
    "· Drop rows where City is missing.\n",
    "\n",
    "· Decide what to do with missing values in Experience."
   ]
  },
  {
   "cell_type": "code",
   "execution_count": null,
   "metadata": {},
   "outputs": [],
   "source": [
    "df.info()"
   ]
  },
  {
   "cell_type": "code",
   "execution_count": null,
   "metadata": {},
   "outputs": [],
   "source": [
    "df_missing = df[df.isna().any(axis=1)]\n",
    "print(df_missing)"
   ]
  },
  {
   "cell_type": "code",
   "execution_count": null,
   "metadata": {},
   "outputs": [],
   "source": [
    "df['Education'].fillna('Unknown', inplace=True)\n",
    "df"
   ]
  },
  {
   "cell_type": "code",
   "execution_count": null,
   "metadata": {},
   "outputs": [],
   "source": [
    "df['Salary'].fillna(df['Salary'].mean(), inplace=True)\n",
    "\n",
    "df"
   ]
  },
  {
   "cell_type": "code",
   "execution_count": null,
   "metadata": {},
   "outputs": [],
   "source": [
    "df.dropna(subset=['City'])\n",
    "df"
   ]
  },
  {
   "cell_type": "code",
   "execution_count": null,
   "metadata": {},
   "outputs": [],
   "source": [
    "df['Experience'].fillna(df['Experience'].mean(), inplace=True)\n",
    "\n",
    "df"
   ]
  },
  {
   "cell_type": "markdown",
   "metadata": {},
   "source": [
    "## Removing Duplicates"
   ]
  },
  {
   "cell_type": "markdown",
   "metadata": {},
   "source": [
    "\n",
    "· Check if there are any duplicate rows.\n",
    "\n",
    "· If duplicates exist, remove them while keeping only the first occurrence."
   ]
  },
  {
   "cell_type": "code",
   "execution_count": null,
   "metadata": {},
   "outputs": [],
   "source": [
    "is_duplicated = df.duplicated().any()\n",
    "print(is_duplicated)\n",
    "\n"
   ]
  },
  {
   "cell_type": "code",
   "execution_count": null,
   "metadata": {},
   "outputs": [],
   "source": [
    "df.drop_duplicates(inplace=True)\n"
   ]
  },
  {
   "cell_type": "markdown",
   "metadata": {},
   "source": [
    "# Detecting Outliers"
   ]
  },
  {
   "cell_type": "markdown",
   "metadata": {},
   "source": [
    "· Use the Interquartile Range (IQR) method to identify potential outliers in Salary.\n",
    "\n",
    "· Display the rows containing salary outliers.\n",
    "\n",
    "· Remove detected outliers from the dataset.\n"
   ]
  },
  {
   "cell_type": "code",
   "execution_count": null,
   "metadata": {},
   "outputs": [],
   "source": [
    "Q1 = df[\"Salary\"].quantile(0.25)\n",
    "Q3 = df[\"Salary\"].quantile(0.75)\n",
    "IQR = Q3 - Q1\n",
    "Outliers = df[(df[\"Salary\"] < (Q1 - 1.5 * IQR)) | (df[\"Salary\"] > (Q3 + 1.5 * IQR))]\n"
   ]
  },
  {
   "cell_type": "code",
   "execution_count": null,
   "metadata": {},
   "outputs": [],
   "source": [
    "print(Outliers)"
   ]
  },
  {
   "cell_type": "code",
   "execution_count": null,
   "metadata": {},
   "outputs": [],
   "source": [
    "for i in Outliers.index:\n",
    "    df.drop(i, inplace=True)\n",
    "\n"
   ]
  },
  {
   "cell_type": "markdown",
   "metadata": {},
   "source": [
    "# GroupBy Operations"
   ]
  },
  {
   "cell_type": "markdown",
   "metadata": {},
   "source": [
    "· Group the data by City and calculate:\n",
    "\n",
    "o The average salary in each city.\n",
    "\n",
    "o The number of roles in each city.\n",
    "\n",
    "· Group the data by Education and find the maximum salary for each education level.\n",
    "\n",
    "· Group the data by Seniority and find the median salary for each seniority level."
   ]
  },
  {
   "cell_type": "code",
   "execution_count": null,
   "metadata": {},
   "outputs": [],
   "source": [
    "avg_salary = df.groupby(\"City\")[\"Salary\"].mean()\n",
    "role_count = df.groupby(\"City\")[\"Role\"].count()\n",
    "print(\"Avg salary: \\n\", avg_salary)\n",
    "print(\"Role count: \\n\", role_count)"
   ]
  },
  {
   "cell_type": "code",
   "execution_count": null,
   "metadata": {},
   "outputs": [],
   "source": [
    "max_salary = df.groupby(\"Education\")[\"Salary\"].max()\n",
    "print(max_salary)"
   ]
  },
  {
   "cell_type": "code",
   "execution_count": null,
   "metadata": {},
   "outputs": [],
   "source": [
    "median_salary = df.groupby(\"Experience\")[\"Salary\"].median()\n",
    "print(median_salary)"
   ]
  },
  {
   "cell_type": "markdown",
   "metadata": {},
   "source": [
    "# Apply and Map Functions"
   ]
  },
  {
   "cell_type": "markdown",
   "metadata": {},
   "source": [
    "· Add a new column Annual Salary by applying a function to calculate Salary x 12.\n",
    "\n",
    "· Use the .map() function to categorize education levels into 'Low', 'Medium', and 'High':\n",
    "\n",
    "o       MBO, Mavo, and Unknown → 'Low'\n",
    "\n",
    "o       HBO → 'Medium'\n",
    "\n",
    "o       WO → 'High'\n",
    "\n",
    "o       Store the new values in a column called Education Level.\n"
   ]
  },
  {
   "cell_type": "code",
   "execution_count": null,
   "metadata": {},
   "outputs": [],
   "source": [
    "df[\"Annual Salary\"] = df[\"Salary\"] * 12\n",
    "print(df[\"Annual Salary\"])"
   ]
  },
  {
   "cell_type": "code",
   "execution_count": null,
   "metadata": {},
   "outputs": [],
   "source": [
    "education_map = {\n",
    "    \"MBO\": \"Low\",\n",
    "    \"Mavo\": \"Low\",\n",
    "    \"Unknown\": \"Low\",\n",
    "    \"HBO\": \"Medium\",\n",
    "    \"WO\": \"High\"\n",
    "}\n",
    "\n",
    "df[\"Education Level\"] = df[\"Education\"].map(education_map)\n",
    "print(df[\"Education Level\"])"
   ]
  },
  {
   "cell_type": "markdown",
   "metadata": {},
   "source": [
    "# Feature Engineering"
   ]
  },
  {
   "cell_type": "markdown",
   "metadata": {},
   "source": [
    "· Create a new column Year of Birth using the formula: Year - Age.\n",
    "\n",
    "· Create a new column Seniority based on experience:\n",
    "\n",
    "o Less than 5 years → 'Junior'\n",
    "\n",
    "o Between 5 and 10 years → 'Mid-level'\n",
    "\n",
    "o More than 10 years → 'Senior'\n",
    "\n",
    "· Create a new column City Category:\n",
    "\n",
    "o If the city is 'Randstad', 'Amsterdam', or 'Utrecht', categorize it as 'Urban'.\n",
    "\n",
    "o Otherwise, categorize it as 'Non-Urban'.\n",
    "\n",
    "· Create a new column Salary Bracket based on salary:\n",
    "\n",
    "o Less than €3000 → 'Low'\n",
    "\n",
    "o Between €3000 and €5000 → 'Medium'\n",
    "\n",
    "o More than €5000 → 'High'."
   ]
  },
  {
   "cell_type": "code",
   "execution_count": null,
   "metadata": {},
   "outputs": [],
   "source": [
    "df['Year of Birth'] = df['Year'] - df['Age']"
   ]
  },
  {
   "cell_type": "code",
   "execution_count": null,
   "metadata": {},
   "outputs": [],
   "source": [
    "df['Seniority'] = df.cut(df['Experience'], bins=[-1, 5, 10, float('inf')], labels=['Junior', 'Mid-level', 'Senior'])"
   ]
  },
  {
   "cell_type": "code",
   "execution_count": null,
   "metadata": {},
   "outputs": [],
   "source": [
    "df['City Category'] = df['City'].apply(lambda x: 'Urban' if x in ['Randstad', 'Amsterdam', 'Utrecht'] else 'Non-Urban')"
   ]
  },
  {
   "cell_type": "code",
   "execution_count": null,
   "metadata": {},
   "outputs": [],
   "source": [
    "df['Salary Bracket'] = df.cut(df['Salary'], bins=[-float('inf'), 3000, 5000, float('inf')], labels=['Low', 'Medium', 'High'])\n",
    "print(df)"
   ]
  },
  {
   "cell_type": "markdown",
   "metadata": {},
   "source": [
    "# Advanced Analysis\n"
   ]
  },
  {
   "cell_type": "markdown",
   "metadata": {},
   "source": [
    "· Find the top 5 highest-paying roles.\n",
    "\n",
    "· Find the most common role in the dataset."
   ]
  },
  {
   "cell_type": "code",
   "execution_count": null,
   "metadata": {},
   "outputs": [],
   "source": [
    "top_5 = df.groupby('Role')['Salary'].mean().sort_values(ascending=False).head(5)\n",
    "print(top_5)"
   ]
  },
  {
   "cell_type": "code",
   "execution_count": null,
   "metadata": {},
   "outputs": [],
   "source": [
    "common_role = df['Role'].mode()[0]\n",
    "print(common_role)"
   ]
  },
  {
   "cell_type": "markdown",
   "metadata": {},
   "source": [
    "# Save the Cleaned Data\n"
   ]
  },
  {
   "cell_type": "markdown",
   "metadata": {},
   "source": [
    "· Save the final cleaned dataset to a CSV file named cleaned_IT_salaries.csv."
   ]
  },
  {
   "cell_type": "code",
   "execution_count": null,
   "metadata": {},
   "outputs": [],
   "source": [
    "df.to_csv('cleaned_IT_salaries.csv', index=False)"
   ]
  }
 ],
 "metadata": {
  "kernelspec": {
   "display_name": "base",
   "language": "python",
   "name": "python3"
  },
  "language_info": {
   "codemirror_mode": {
    "name": "ipython",
    "version": 3
   },
   "file_extension": ".py",
   "mimetype": "text/x-python",
   "name": "python",
   "nbconvert_exporter": "python",
   "pygments_lexer": "ipython3",
   "version": "3.12.7"
  }
 },
 "nbformat": 4,
 "nbformat_minor": 4
}
