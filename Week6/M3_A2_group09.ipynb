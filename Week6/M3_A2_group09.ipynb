{
 "cells": [
  {
   "cell_type": "markdown",
   "metadata": {},
   "source": [
    "Part 1: Self-Study on ROC and AUC\n",
    "\n",
    "· What is the ROC curve?\n",
    "it shows the performance of a model by looking at the true positive rates against the false positives\n",
    "\n",
    "· What does the AUC score represent?\n",
    "This is the area under the curve that shows the performance on all thresholds and the higher the better\n",
    "\n",
    "· How do ROC and AUC compare with other evaluation metrics like accuracy, precision, recall, and F1-score?\n",
    "Use ROC for imbalanced datasets and when you need a threshold-independent metric.\n",
    "And Precision, Recall, or F1-score when specific error types matter more.\n"
   ]
  },
  {
   "cell_type": "markdown",
   "metadata": {},
   "source": [
    "Part 2: Applying Multiple Algorithms and Evaluating Metrics\n",
    "\n",
    "\n",
    "1. Load and Prepare the Dataset\n",
    "\n",
    "o Use the Titanic dataset (as in the class exercise).\n",
    "\n",
    "o Preprocess the data as needed (handle missing values, encode categorical variables, etc.).\n",
    "\n",
    "o Include the exercises we did in class, such as correlation and plotting a correlation matrix."
   ]
  },
  {
   "cell_type": "code",
   "execution_count": 12,
   "metadata": {},
   "outputs": [
    {
     "name": "stdout",
     "output_type": "stream",
     "text": [
      "Index(['Age', 'Cabin', 'Embarked', 'Fare', 'Name', 'Parch', 'PassengerId',\n",
      "       'Pclass', 'Sex', 'SibSp', 'Survived', 'Ticket', 'Title', 'Family_Size'],\n",
      "      dtype='object')\n",
      "Age            float64\n",
      "Cabin           object\n",
      "Embarked        object\n",
      "Fare           float64\n",
      "Name            object\n",
      "Parch            int64\n",
      "PassengerId      int64\n",
      "Pclass           int64\n",
      "Sex             object\n",
      "SibSp            int64\n",
      "Survived       float64\n",
      "Ticket          object\n",
      "Title           object\n",
      "Family_Size      int64\n",
      "dtype: object\n"
     ]
    }
   ],
   "source": [
    "import pandas as pd\n",
    "import numpy as np\n",
    "\n",
    "df = pd.read_csv('titanic_clean.csv') \n",
    "\n",
    "df.replace('?', np.nan, inplace=True)\n",
    "\n",
    "df.dropna(inplace=True)\n",
    "print(df.columns)\n",
    "print(df.dtypes)\n",
    "\n"
   ]
  },
  {
   "cell_type": "code",
   "execution_count": 13,
   "metadata": {},
   "outputs": [
    {
     "name": "stdout",
     "output_type": "stream",
     "text": [
      "                       Age      Fare     Parch  PassengerId    Pclass  \\\n",
      "Age               1.000000 -0.071639 -0.254320     0.044056 -0.304142   \n",
      "Fare             -0.071639  1.000000  0.383972     0.017243 -0.311713   \n",
      "Parch            -0.254320  0.383972  1.000000    -0.063456  0.058366   \n",
      "PassengerId       0.044056  0.017243 -0.063456     1.000000 -0.082977   \n",
      "Pclass           -0.304142 -0.311713  0.058366    -0.082977  1.000000   \n",
      "...                    ...       ...       ...          ...       ...   \n",
      "Ticket_WE/P 5735  0.117032 -0.006894  0.145354     0.074638 -0.037186   \n",
      "Title_Master     -0.393689 -0.027618  0.256872    -0.017377  0.186180   \n",
      "Title_Miss       -0.291433  0.159140  0.151630    -0.101525  0.030447   \n",
      "Title_Mr          0.291097 -0.122649 -0.185332     0.008827 -0.116235   \n",
      "Title_Mrs         0.105762  0.008872 -0.024058     0.085657  0.039590   \n",
      "\n",
      "                     SibSp  Survived  Family_Size  Cabin_A14  Cabin_A16  ...  \\\n",
      "Age              -0.141006 -0.220053    -0.253389  -0.024978   0.059174  ...   \n",
      "Fare              0.290696  0.128306     0.427765  -0.022833  -0.034561  ...   \n",
      "Parch             0.265411  0.038081     0.828439  -0.042050  -0.042050  ...   \n",
      "PassengerId      -0.079741  0.110153    -0.089108   0.005765   0.028436  ...   \n",
      "Pclass           -0.084097 -0.033032    -0.009499  -0.026230  -0.026230  ...   \n",
      "...                    ...       ...          ...        ...        ...  ...   \n",
      "Ticket_WE/P 5735  0.009330 -0.035180     0.103426  -0.006984  -0.006984  ...   \n",
      "Title_Master      0.124982  0.133291     0.245801  -0.013230  -0.013230  ...   \n",
      "Title_Miss        0.006993  0.324550     0.106300  -0.039462  -0.039462  ...   \n",
      "Title_Mr         -0.206986 -0.589709    -0.245202   0.072995  -0.067486  ...   \n",
      "Title_Mrs         0.171912  0.312802     0.083644  -0.038402   0.128278  ...   \n",
      "\n",
      "                  Ticket_S.O./P.P. 3  Ticket_SC/AH Basle 541  \\\n",
      "Age                         0.101251               -0.057704   \n",
      "Fare                       -0.062083               -0.058970   \n",
      "Parch                      -0.042050               -0.042050   \n",
      "PassengerId                 0.088893                0.005205   \n",
      "Pclass                      0.107542                0.107542   \n",
      "...                              ...                     ...   \n",
      "Ticket_WE/P 5735           -0.006984               -0.006984   \n",
      "Title_Master               -0.013230               -0.013230   \n",
      "Title_Miss                 -0.039462               -0.039462   \n",
      "Title_Mr                   -0.067486               -0.067486   \n",
      "Title_Mrs                   0.128278                0.128278   \n",
      "\n",
      "                  Ticket_SC/Paris 2163  Ticket_SOTON/O.Q. 392078  \\\n",
      "Age                           0.003073                 -0.015628   \n",
      "Fare                         -0.059837                 -0.064400   \n",
      "Parch                        -0.042050                 -0.042050   \n",
      "PassengerId                  -0.045455                 -0.007110   \n",
      "Pclass                        0.107542                  0.241314   \n",
      "...                                ...                       ...   \n",
      "Ticket_WE/P 5735             -0.006984                 -0.006984   \n",
      "Title_Master                 -0.013230                 -0.013230   \n",
      "Title_Miss                   -0.039462                 -0.039462   \n",
      "Title_Mr                      0.072995                  0.072995   \n",
      "Title_Mrs                    -0.038402                 -0.038402   \n",
      "\n",
      "                  Ticket_W.E.P. 5734  Ticket_WE/P 5735  Title_Master  \\\n",
      "Age                         0.049824          0.117032     -0.393689   \n",
      "Fare                       -0.014155         -0.006894     -0.027618   \n",
      "Parch                      -0.042050          0.145354      0.256872   \n",
      "PassengerId                -0.101433          0.074638     -0.017377   \n",
      "Pclass                     -0.026230         -0.037186      0.186180   \n",
      "...                              ...               ...           ...   \n",
      "Ticket_WE/P 5735           -0.006984          1.000000     -0.018757   \n",
      "Title_Master               -0.013230         -0.018757      1.000000   \n",
      "Title_Miss                 -0.039462          0.060513     -0.105986   \n",
      "Title_Mr                    0.072995          0.003905     -0.181249   \n",
      "Title_Mrs                  -0.038402         -0.054443     -0.103137   \n",
      "\n",
      "                  Title_Miss  Title_Mr  Title_Mrs  \n",
      "Age                -0.291433  0.291097   0.105762  \n",
      "Fare                0.159140 -0.122649   0.008872  \n",
      "Parch               0.151630 -0.185332  -0.024058  \n",
      "PassengerId        -0.101525  0.008827   0.085657  \n",
      "Pclass              0.030447 -0.116235   0.039590  \n",
      "...                      ...       ...        ...  \n",
      "Ticket_WE/P 5735    0.060513  0.003905  -0.054443  \n",
      "Title_Master       -0.105986 -0.181249  -0.103137  \n",
      "Title_Miss          1.000000 -0.540620  -0.307632  \n",
      "Title_Mr           -0.540620  1.000000  -0.526089  \n",
      "Title_Mrs          -0.307632 -0.526089   1.000000  \n",
      "\n",
      "[505 rows x 505 columns]\n"
     ]
    }
   ],
   "source": [
    "encoded = pd.get_dummies(df, columns=['Cabin', 'Embarked', 'Name','Sex','Ticket', 'Title'], drop_first=True)\n",
    "\n",
    "corr_matrix = encoded.corr()\n",
    "print(corr_matrix)"
   ]
  },
  {
   "cell_type": "markdown",
   "metadata": {},
   "source": [
    "Train Multiple Classification Models\n",
    "\n",
    "o In addition to the Random Forest classifier used in class, apply at least two more classification algorithms of your choice (e.g., Logistic Regression, Support Vector Machine, K-Nearest Neighbors, Gradient Boosting, etc.)."
   ]
  },
  {
   "cell_type": "code",
   "execution_count": null,
   "metadata": {},
   "outputs": [],
   "source": []
  },
  {
   "cell_type": "markdown",
   "metadata": {},
   "source": [
    "Evaluate Model Performance\n",
    "\n",
    "o Compute the following metrics for each model:\n",
    "§ Accuracy\n",
    "§ Precision\n",
    "§ Recall\n",
    "§ F1-score\n",
    "§ Confusion Matrix\n",
    "\n",
    "o Display these metrics in an organized format (e.g., tables, visualizations)."
   ]
  },
  {
   "cell_type": "code",
   "execution_count": null,
   "metadata": {},
   "outputs": [],
   "source": []
  },
  {
   "cell_type": "markdown",
   "metadata": {},
   "source": [
    "Plot the ROC Curve and Compute AUC Score\n",
    "\n",
    "o Generate the ROC curve for each model.\n",
    "\n",
    "o Compute and report the AUC score.\n",
    "\n",
    "o Compare the curves of different models in a single plot."
   ]
  },
  {
   "cell_type": "code",
   "execution_count": null,
   "metadata": {},
   "outputs": [],
   "source": []
  },
  {
   "cell_type": "markdown",
   "metadata": {},
   "source": [
    "Part 3: Interpretation and Analysis\n",
    "\n",
    "\n",
    "1. Compare Model Performance\n",
    "\n",
    "o Compare the models based on evaluation metrics.\n",
    "\n",
    "o Which model performed best based on accuracy, precision, recall, and F1-score?"
   ]
  },
  {
   "cell_type": "code",
   "execution_count": null,
   "metadata": {},
   "outputs": [],
   "source": []
  },
  {
   "cell_type": "markdown",
   "metadata": {},
   "source": [
    "Analyze the ROC Curve\n",
    "\n",
    "o Examine the shape of the ROC curve for each model.\n",
    "\n",
    "o Discuss what the AUC score reveals about the performance of each classifier.\n",
    "\n",
    "o Explain in a markdown cell which model you would choose and why, based on the ROC-AUC analysis."
   ]
  },
  {
   "cell_type": "code",
   "execution_count": null,
   "metadata": {},
   "outputs": [],
   "source": []
  }
 ],
 "metadata": {
  "kernelspec": {
   "display_name": "base",
   "language": "python",
   "name": "python3"
  },
  "language_info": {
   "codemirror_mode": {
    "name": "ipython",
    "version": 3
   },
   "file_extension": ".py",
   "mimetype": "text/x-python",
   "name": "python",
   "nbconvert_exporter": "python",
   "pygments_lexer": "ipython3",
   "version": "3.12.7"
  }
 },
 "nbformat": 4,
 "nbformat_minor": 2
}
