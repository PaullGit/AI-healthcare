{
 "cells": [
  {
   "cell_type": "markdown",
   "metadata": {},
   "source": [
    "1. Data Loading and Cleaning\n",
    "\n",
    "· Load the dataset into a Pandas DataFrame.\n",
    "\n",
    "· Identify and handle missing values appropriately (e.g., using imputation techniques).\n",
    "\n",
    "· Convert categorical variables into numerical format (e.g., label encoding or one-hot encoding).\n",
    "\n",
    "· Scale numerical features if necessary (e.g., StandardScaler, MinMaxScaler) and explain why."
   ]
  },
  {
   "cell_type": "code",
   "execution_count": null,
   "metadata": {},
   "outputs": [],
   "source": [
    "\n",
    "import pandas as pd\n",
    "import numpy as np\n",
    "from sklearn.preprocessing import LabelEncoder, StandardScaler\n",
    "\n",
    "df = pd.read_csv(\"./credit_approval_anonymized.csv\")\n",
    "\n",
    "df.replace(\"\", np.nan, inplace=True)\n",
    "df.dropna()\n",
    "\n",
    "categorical_cols = ['A1', 'A4', 'A5', 'A6', 'A7', 'A8', 'A10', 'A9', 'A12', 'A13']\n",
    "numerical_cols = ['A2', 'A3', 'A11', 'A14', 'A15']\n",
    "\n",
    "\n",
    "target_map = {'+': 1, '-': 0}\n",
    "df['A16'] = df['A16'].map(target_map)\n",
    "\n",
    "encoder = LabelEncoder()\n",
    "for col in categorical_cols:\n",
    "    df[col] = encoder.fit_transform(df[col])\n",
    "\n",
    "\n",
    "scaler = StandardScaler()\n",
    "df[numerical_cols] = scaler.fit_transform(df[numerical_cols])"
   ]
  },
  {
   "cell_type": "markdown",
   "metadata": {},
   "source": [
    "### Clarification to why we are using StandardScaling"
   ]
  },
  {
   "cell_type": "markdown",
   "metadata": {},
   "source": []
  }
 ],
 "metadata": {
  "language_info": {
   "name": "python"
  }
 },
 "nbformat": 4,
 "nbformat_minor": 2
}
